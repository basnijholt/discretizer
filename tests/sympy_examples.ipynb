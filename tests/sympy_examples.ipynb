{
 "cells": [
  {
   "cell_type": "code",
   "execution_count": 1,
   "metadata": {
    "collapsed": true
   },
   "outputs": [],
   "source": [
    "import numpy as np\n",
    "import sympy as sy"
   ]
  },
  {
   "cell_type": "code",
   "execution_count": 2,
   "metadata": {
    "collapsed": false
   },
   "outputs": [],
   "source": [
    "x, y, z, k = sy.symbols('x y z k', commutative=False)\n",
    "A = sy.Function('A')(x)\n",
    "Psi = sy.Function('Psi')(x)\n",
    "\n",
    "expr = k*A*k*Psi\n",
    "expr2 = k*A*k*Psi + k*Psi"
   ]
  },
  {
   "cell_type": "code",
   "execution_count": 9,
   "metadata": {
    "collapsed": false
   },
   "outputs": [],
   "source": [
    "def discretize(expr):\n",
    "    expr = sy.expand(expr)\n",
    "    \n",
    "    if expr.func == sy.Add:\n",
    "        terms = []\n",
    "        for term in expr.args:\n",
    "            terms.append(discretize(term))\n",
    "        res = sy.Add(*tuple(terms))\n",
    "    else:\n",
    "        # First find a k (in terms of an index for the expr.args list)\n",
    "        index = 'None'\n",
    "        for i in range(len(expr.args)):\n",
    "            if expr.args[i] == k:\n",
    "                index = i\n",
    "    \n",
    "        # Only change anything if there was at least one k in the expression.\n",
    "        if not index == 'None':\n",
    "            #Rafal wants three terms: left side, right side, derivative operators!\n",
    "            # Take everything behind the k\n",
    "            temp = sy.Mul(*expr.args[index+1:])\n",
    "            # apply the derivative operator\n",
    "            temp = (temp.subs(x, x+1) - temp.subs(x, x-1))/2\n",
    "            # multiply by whatever was in front of the derivative operator\n",
    "            res = sy.Mul(sy.Mul(*expr.args[:index]), temp)\n",
    "            # expand to get standard form\n",
    "            res = sy.expand(res)\n",
    "            # in order to check whether there are derivatives left, run on the discretizer on the result again\n",
    "            res = discretize(res)\n",
    "        else:\n",
    "            res = expr\n",
    "        \n",
    "    return res"
   ]
  },
  {
   "cell_type": "code",
   "execution_count": 14,
   "metadata": {
    "collapsed": true
   },
   "outputs": [],
   "source": [
    "expr3 = (k**2+k)*Psi"
   ]
  },
  {
   "cell_type": "code",
   "execution_count": 15,
   "metadata": {
    "collapsed": true
   },
   "outputs": [],
   "source": [
    "expr3 = sy.expand(expr3)"
   ]
  },
  {
   "cell_type": "code",
   "execution_count": 16,
   "metadata": {
    "collapsed": false
   },
   "outputs": [
    {
     "data": {
      "text/plain": [
       "\"Add(Mul(Symbol('k'), Function('Psi')(Symbol('x'))), Mul(Pow(Symbol('k'), Integer(2)), Function('Psi')(Symbol('x'))))\""
      ]
     },
     "execution_count": 16,
     "metadata": {},
     "output_type": "execute_result"
    }
   ],
   "source": [
    "sy.srepr(expr3)"
   ]
  },
  {
   "cell_type": "code",
   "execution_count": null,
   "metadata": {
    "collapsed": true
   },
   "outputs": [],
   "source": []
  }
 ],
 "metadata": {
  "kernelspec": {
   "display_name": "dev2",
   "language": "python2",
   "name": "dev2"
  },
  "language_info": {
   "codemirror_mode": {
    "name": "ipython",
    "version": 2
   },
   "file_extension": ".py",
   "mimetype": "text/x-python",
   "name": "python",
   "nbconvert_exporter": "python",
   "pygments_lexer": "ipython2",
   "version": "2.7.6"
  }
 },
 "nbformat": 4,
 "nbformat_minor": 0
}
