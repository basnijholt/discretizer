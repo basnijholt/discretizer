{
 "cells": [
  {
   "cell_type": "code",
   "execution_count": 4,
   "metadata": {
    "collapsed": true
   },
   "outputs": [],
   "source": [
    "import numpy as np\n",
    "from collections import namedtuple\n",
    "\n",
    "nt_test = namedtuple('nt_test', 'A P a')\n",
    "\n",
    "par = nt_test(A = lambda x: 1.0 + (x > 1.5),\n",
    "              P = lambda x: 1.0 + (x > 1.5),\n",
    "              a = 1.0)"
   ]
  },
  {
   "cell_type": "markdown",
   "metadata": {
    "collapsed": true
   },
   "source": [
    "## Test I\n",
    "\n",
    "$ H = kAk $\n"
   ]
  },
  {
   "cell_type": "code",
   "execution_count": 5,
   "metadata": {
    "collapsed": true
   },
   "outputs": [],
   "source": [
    "def hop_nn(xs, xt, par):\n",
    "    A = par.A\n",
    "    res = -(A(xt) + A(xs)) / (2*par.a**2)\n",
    "    return res\n",
    "\n",
    "def onsite(x, par):\n",
    "    A = par.A\n",
    "    res = (A(x-1)/2 + A(x) + A(x+1)/2) / (par.a**2)"
   ]
  },
  {
   "cell_type": "markdown",
   "metadata": {},
   "source": [
    "## Test II\n",
    "\n",
    "$H =  \\left( \\begin{array}{cc}\n",
    "kAk & Pk \\\\\n",
    "kP & kAk \\end{array} \\right) $\n",
    "\n"
   ]
  },
  {
   "cell_type": "code",
   "execution_count": 6,
   "metadata": {
    "collapsed": true
   },
   "outputs": [],
   "source": [
    "sigma_0 = np.array([[1, 0], [0, 1]])\n",
    "sigma_x = np.array([[0, 1], [1, 0]])\n",
    "sigma_y = np.array([[0, -1j], [1j, 0]])\n",
    "sigma_z = np.array([[1, 0], [0, -1]])\n",
    "\n",
    "#double check signs!\n",
    "def hop_nn(xs, xt, par):\n",
    "    A = par.A\n",
    "    P = par.P\n",
    "    res = -((A(xt) + A(xs)) / (2*par.a**2) * sigma_0\n",
    "            + np.sign(xs-xt) * 1j * sigma_x * (P(xs) + P(xt)) / (4 * par.a)\n",
    "            - np.sign(xs-xt) * sigma_y * (P(xs) - P(xt)) / (4 * par.a))\n",
    "    return res\n",
    "\n",
    "def onsite(x, par):\n",
    "    A = par.A\n",
    "    res = (A(x-1)/2 + A(x) + A(x+1)/2) / (par.a**2) * sigma_0\n",
    "    return res\n"
   ]
  },
  {
   "cell_type": "markdown",
   "metadata": {},
   "source": [
    "## Test III a\n",
    "\n",
    "$H =  \\left( \\begin{array}{cc}\n",
    "kAk & (k_x k_y P + P k_x k_y)/2 \\\\\n",
    "(k_x k_y P + P k_x k_y)/2 & kAk \\end{array} \\right) $\n",
    "\n"
   ]
  },
  {
   "cell_type": "code",
   "execution_count": 23,
   "metadata": {
    "collapsed": true
   },
   "outputs": [],
   "source": [
    "par = nt_test(A = lambda x, y: 1.0 + (x > 1.5) + (y > 1.5),\n",
    "              P = lambda x, y: 1.0 + (x > 1.5) + (y > 1.5),\n",
    "              a = 1.0)\n",
    "\n",
    "#SIGNS?\n",
    "def hop_x_or_y(rs, rt, par):\n",
    "    (xs, ys) = rs\n",
    "    (xt, yt) = rt\n",
    "    A = par.A\n",
    "    res = -(A(xs, ys) + A(xt, yt)) / (2*par.a**2) * sigma_0\n",
    "    return res\n",
    "\n",
    "def hop_x_and_y(rs, rt, par):\n",
    "    (xs, ys) = rs\n",
    "    (xt, yt) = rt\n",
    "    P = par.P\n",
    "    res =  np.sign(xs-xt) * np.sign(ys-yt) * (P(xs, ys) + P(xt, yt)) * sigma_x / (4 * par.a**2)\n",
    "    return res\n",
    "\n",
    "def onsite(r, par):\n",
    "    (x, y) = r\n",
    "    A = par.A\n",
    "    res = (A(x, y-1)/2 + A(x-1, y)/2 + 2*A(x, y) + A(x+1, y)/2 + A(x, y+1)/2) / (par.a**2) * sigma_0\n",
    "    return res"
   ]
  },
  {
   "cell_type": "code",
   "execution_count": 21,
   "metadata": {
    "collapsed": false
   },
   "outputs": [
    {
     "data": {
      "text/plain": [
       "array([[ 4.5,  0. ],\n",
       "       [ 0. ,  4.5]])"
      ]
     },
     "execution_count": 21,
     "metadata": {},
     "output_type": "execute_result"
    }
   ],
   "source": [
    "onsite((1,0), par)"
   ]
  },
  {
   "cell_type": "markdown",
   "metadata": {},
   "source": [
    "## Test III b\n",
    "\n",
    "$H =  \\left( \\begin{array}{cc}\n",
    "kAk & (k_x P k_y + k_y P k_x)/2 \\\\\n",
    "(k_x P k_y  + k_y P k_x)/2 & kAk \\end{array} \\right) $\n",
    "\n"
   ]
  },
  {
   "cell_type": "code",
   "execution_count": 25,
   "metadata": {
    "collapsed": true
   },
   "outputs": [],
   "source": [
    "def hop_x_or_y(rs, rt, par):\n",
    "    (xs, ys) = rs\n",
    "    (xt, yt) = rt\n",
    "    A = par.A\n",
    "    res = -(A(xs, ys) + A(xt, yt)) / (2*par.a**2) * sigma_0\n",
    "    return res\n",
    "\n",
    "def hop_x_and_y(rs, rt, par):\n",
    "    (xs, ys) = rs\n",
    "    (xt, yt) = rt\n",
    "    P = par.P\n",
    "    res =  np.sign(xs-xt) * np.sign(ys-yt) * (P(xs, yt) + P(xt, ys)) * sigma_x / (4 * par.a**2)\n",
    "    return res\n"
   ]
  },
  {
   "cell_type": "code",
   "execution_count": 26,
   "metadata": {
    "collapsed": false
   },
   "outputs": [
    {
     "data": {
      "text/plain": [
       "array([[ 0. ,  0.5],\n",
       "       [ 0.5,  0. ]])"
      ]
     },
     "execution_count": 26,
     "metadata": {},
     "output_type": "execute_result"
    }
   ],
   "source": [
    "hop_x_and_y((0, 0), (1, 1), par)"
   ]
  },
  {
   "cell_type": "code",
   "execution_count": null,
   "metadata": {
    "collapsed": true
   },
   "outputs": [],
   "source": []
  }
 ],
 "metadata": {
  "kernelspec": {
   "display_name": "dev2",
   "language": "python2",
   "name": "dev2"
  },
  "language_info": {
   "codemirror_mode": {
    "name": "ipython",
    "version": 2
   },
   "file_extension": ".py",
   "mimetype": "text/x-python",
   "name": "python",
   "nbconvert_exporter": "python",
   "pygments_lexer": "ipython2",
   "version": "2.7.6"
  }
 },
 "nbformat": 4,
 "nbformat_minor": 0
}
