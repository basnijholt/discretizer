{
 "cells": [
  {
   "cell_type": "markdown",
   "metadata": {},
   "source": [
    "## Assumptions\n",
    "* space_dependent - these are cast to functions, not commutative\n",
    "\n",
    "* momentum_symbols - will be specified (default to kx, ky, kz probably) and not commutative\n",
    "\n",
    "* constant - commutative, everything else\n",
    "\n",
    "* coordinates are always create as symbol with commutative=False\n",
    "\n",
    "* lattice constant is always a"
   ]
  },
  {
   "cell_type": "code",
   "execution_count": 23,
   "metadata": {
    "collapsed": false
   },
   "outputs": [],
   "source": [
    "import sympy\n",
    "\n",
    "from sympy.interactive import printing\n",
    "printing.init_printing(use_latex='mathjax')"
   ]
  },
  {
   "cell_type": "code",
   "execution_count": 24,
   "metadata": {
    "collapsed": true
   },
   "outputs": [],
   "source": [
    "coord = sympy.symbols('x y z', commutative=False)"
   ]
  },
  {
   "cell_type": "code",
   "execution_count": 25,
   "metadata": {
    "collapsed": true
   },
   "outputs": [],
   "source": [
    "def substitute_functions(expression, space_dependent=[]):\n",
    "    symbols = [s for s in expr.atoms(sympy.Symbol) if s.name in space_dependent]\n",
    "    subs = {s: sympy.Function(s.name)(*coord) for s in symbols}\n",
    "    \n",
    "    return expression.subs(subs)"
   ]
  },
  {
   "cell_type": "markdown",
   "metadata": {},
   "source": [
    "### Defining input expression"
   ]
  },
  {
   "cell_type": "code",
   "execution_count": 26,
   "metadata": {
    "collapsed": false
   },
   "outputs": [],
   "source": [
    "A, B, C, D = sympy.symbols('A B C D', commutative=False)\n",
    "space_dependent = ['A', 'B']"
   ]
  },
  {
   "cell_type": "code",
   "execution_count": 27,
   "metadata": {
    "collapsed": false
   },
   "outputs": [
    {
     "data": {
      "text/latex": [
       "$$A B C + D$$"
      ],
      "text/plain": [
       "A⋅B⋅C + D"
      ]
     },
     "execution_count": 27,
     "metadata": {},
     "output_type": "execute_result"
    }
   ],
   "source": [
    "expr = A*B*C + D; expr"
   ]
  },
  {
   "cell_type": "code",
   "execution_count": 28,
   "metadata": {
    "collapsed": false
   },
   "outputs": [
    {
     "data": {
      "text/latex": [
       "$$D + A{\\left (x,y,z \\right )} B{\\left (x,y,z \\right )} C$$"
      ],
      "text/plain": [
       "D + A(x, y, z)⋅B(x, y, z)⋅C"
      ]
     },
     "execution_count": 28,
     "metadata": {},
     "output_type": "execute_result"
    }
   ],
   "source": [
    "expr = substitute_functions(expr, space_dependent); expr"
   ]
  },
  {
   "cell_type": "markdown",
   "metadata": {},
   "source": [
    "# derivative"
   ]
  },
  {
   "cell_type": "code",
   "execution_count": 29,
   "metadata": {
    "collapsed": true
   },
   "outputs": [],
   "source": [
    "def derivate(expr, v):\n",
    "    if isinstance(v, str):\n",
    "        v = sympy.Symbol(v, commutative=False)\n",
    "        \n",
    "    a = sympy.Symbol('a')\n",
    "    return sympy.expand((expr.subs(v, v+a) - expr.subs(v, v-a)) / 2 / a)"
   ]
  },
  {
   "cell_type": "code",
   "execution_count": 32,
   "metadata": {
    "collapsed": false
   },
   "outputs": [
    {
     "data": {
      "text/latex": [
       "$$- \\frac{1}{2 a} A{\\left (x,- a + y,z \\right )} B{\\left (x,- a + y,z \\right )} C + \\frac{1}{2 a} A{\\left (x,a + y,z \\right )} B{\\left (x,a + y,z \\right )} C$$"
      ],
      "text/plain": [
       "  A(x, -a + y, z)⋅B(x, -a + y, z)⋅C   A(x, a + y, z)⋅B(x, a + y, z)⋅C\n",
       "- ───────────────────────────────── + ───────────────────────────────\n",
       "                 2⋅a                                2⋅a              "
      ]
     },
     "execution_count": 32,
     "metadata": {},
     "output_type": "execute_result"
    }
   ],
   "source": [
    "derivate(expr, coord[1])"
   ]
  }
 ],
 "metadata": {
  "kernelspec": {
   "display_name": "Python 3",
   "language": "python3",
   "name": "python3"
  },
  "language_info": {
   "codemirror_mode": {
    "name": "ipython",
    "version": 3
   },
   "file_extension": ".py",
   "mimetype": "text/x-python",
   "name": "python",
   "nbconvert_exporter": "python",
   "pygments_lexer": "ipython3",
   "version": "3.4.3"
  }
 },
 "nbformat": 4,
 "nbformat_minor": 0
}
