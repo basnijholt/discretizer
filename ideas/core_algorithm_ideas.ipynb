{
 "cells": [
  {
   "cell_type": "markdown",
   "metadata": {},
   "source": [
    "## Assumptions\n",
    "* space_dependent - these are cast to functions, not commutative\n",
    "\n",
    "* momentum_symbols - will be specified (default to kx, ky, kz probably) and not commutative\n",
    "\n",
    "* constant - commutative, everything else"
   ]
  },
  {
   "cell_type": "code",
   "execution_count": 1,
   "metadata": {
    "collapsed": false
   },
   "outputs": [],
   "source": [
    "import sympy\n",
    "\n",
    "from sympy.interactive import printing\n",
    "printing.init_printing(use_latex='mathjax')"
   ]
  },
  {
   "cell_type": "code",
   "execution_count": 2,
   "metadata": {
    "collapsed": true
   },
   "outputs": [],
   "source": [
    "coord = sympy.symbols('x y z', commutative=False)"
   ]
  },
  {
   "cell_type": "code",
   "execution_count": 3,
   "metadata": {
    "collapsed": true
   },
   "outputs": [],
   "source": [
    "def substitute_functions(expression, space_dependent=[]):\n",
    "    symbols = [s for s in expr.atoms(sympy.Symbol) if s in space_dependent]\n",
    "    subs = {s: sympy.Function(s.name)(*coord) for s in symbols}\n",
    "    \n",
    "    return expression.subs(subs)"
   ]
  },
  {
   "cell_type": "markdown",
   "metadata": {},
   "source": [
    "### Defining input expression"
   ]
  },
  {
   "cell_type": "code",
   "execution_count": 4,
   "metadata": {
    "collapsed": false
   },
   "outputs": [],
   "source": [
    "A, B, C, D = sympy.symbols('A B C D', commutative=False)\n",
    "space_dependent = ['A', 'B']"
   ]
  },
  {
   "cell_type": "code",
   "execution_count": 5,
   "metadata": {
    "collapsed": false
   },
   "outputs": [
    {
     "data": {
      "text/latex": [
       "$$A B C + D$$"
      ],
      "text/plain": [
       "A⋅B⋅C + D"
      ]
     },
     "execution_count": 5,
     "metadata": {},
     "output_type": "execute_result"
    }
   ],
   "source": [
    "expr = A*B*C + D; expr"
   ]
  },
  {
   "cell_type": "code",
   "execution_count": 6,
   "metadata": {
    "collapsed": false
   },
   "outputs": [
    {
     "data": {
      "text/latex": [
       "$$A B C + D$$"
      ],
      "text/plain": [
       "A⋅B⋅C + D"
      ]
     },
     "execution_count": 6,
     "metadata": {},
     "output_type": "execute_result"
    }
   ],
   "source": [
    "substitute_functions(expr, space_dependent)"
   ]
  },
  {
   "cell_type": "markdown",
   "metadata": {},
   "source": [
    "# Manipulating and expanding"
   ]
  },
  {
   "cell_type": "code",
   "execution_count": 11,
   "metadata": {
    "collapsed": false
   },
   "outputs": [
    {
     "data": {
      "text/latex": [
       "$$\\left ( - A{\\left (- a + x \\right )} + A{\\left (a + x \\right )}, \\quad - 2 f{\\left (x \\right )} + f{\\left (- a + x \\right )} + f{\\left (a + x \\right )}\\right )$$"
      ],
      "text/plain": [
       "(-A(-a + x) + A(a + x), -2⋅f(x) + f(-a + x) + f(a + x))"
      ]
     },
     "execution_count": 11,
     "metadata": {},
     "output_type": "execute_result"
    }
   ],
   "source": [
    "x, y, z = sympy.symbols('x y z', commutative=False)\n",
    "a = sympy.symbols('a')\n",
    "f = sympy.Function('f')\n",
    "A = sympy.Function('A')\n",
    "\n",
    "expr1 = (A(x+a) - A(x-a))\n",
    "expr2 =  (f(x+a) - 2*f(x) + f(x-a)) \n",
    "expr1, expr2"
   ]
  },
  {
   "cell_type": "code",
   "execution_count": 12,
   "metadata": {
    "collapsed": false
   },
   "outputs": [
    {
     "data": {
      "text/latex": [
       "$$\\left(- A{\\left (- a + x \\right )} + A{\\left (a + x \\right )}\\right) \\left(- 2 f{\\left (x \\right )} + f{\\left (- a + x \\right )} + f{\\left (a + x \\right )}\\right)$$"
      ],
      "text/plain": [
       "(-A(-a + x) + A(a + x))⋅(-2⋅f(x) + f(-a + x) + f(a + x))"
      ]
     },
     "execution_count": 12,
     "metadata": {},
     "output_type": "execute_result"
    }
   ],
   "source": [
    "expr = expr1 * expr2\n",
    "expr"
   ]
  },
  {
   "cell_type": "code",
   "execution_count": 13,
   "metadata": {
    "collapsed": false
   },
   "outputs": [
    {
     "data": {
      "text/latex": [
       "$$2 A{\\left (- a + x \\right )} f{\\left (x \\right )} - A{\\left (- a + x \\right )} f{\\left (- a + x \\right )} - A{\\left (- a + x \\right )} f{\\left (a + x \\right )} - 2 A{\\left (a + x \\right )} f{\\left (x \\right )} + A{\\left (a + x \\right )} f{\\left (- a + x \\right )} + A{\\left (a + x \\right )} f{\\left (a + x \\right )}$$"
      ],
      "text/plain": [
       "2⋅A(-a + x)⋅f(x) - A(-a + x)⋅f(-a + x) - A(-a + x)⋅f(a + x) - 2⋅A(a + x)⋅f(x) \n",
       "+ A(a + x)⋅f(-a + x) + A(a + x)⋅f(a + x)"
      ]
     },
     "execution_count": 13,
     "metadata": {},
     "output_type": "execute_result"
    }
   ],
   "source": [
    "expr.expand()"
   ]
  },
  {
   "cell_type": "markdown",
   "metadata": {},
   "source": [
    "# Incrementing argument"
   ]
  },
  {
   "cell_type": "code",
   "execution_count": 14,
   "metadata": {
    "collapsed": true
   },
   "outputs": [],
   "source": [
    "def increment(f):\n",
    "    return f.subs(x, x+a)"
   ]
  },
  {
   "cell_type": "code",
   "execution_count": 15,
   "metadata": {
    "collapsed": false
   },
   "outputs": [
    {
     "data": {
      "text/latex": [
       "$$- A{\\left (- a + x \\right )} + A{\\left (a + x \\right )}$$"
      ],
      "text/plain": [
       "-A(-a + x) + A(a + x)"
      ]
     },
     "execution_count": 15,
     "metadata": {},
     "output_type": "execute_result"
    }
   ],
   "source": [
    "expr1"
   ]
  },
  {
   "cell_type": "code",
   "execution_count": 16,
   "metadata": {
    "collapsed": false
   },
   "outputs": [
    {
     "data": {
      "text/latex": [
       "$$- A{\\left (x \\right )} + A{\\left (2 a + x \\right )}$$"
      ],
      "text/plain": [
       "-A(x) + A(2⋅a + x)"
      ]
     },
     "execution_count": 16,
     "metadata": {},
     "output_type": "execute_result"
    }
   ],
   "source": [
    "increment(expr1)"
   ]
  }
 ],
 "metadata": {
  "kernelspec": {
   "display_name": "standard",
   "language": "raf_standard",
   "name": "standard"
  },
  "language_info": {
   "codemirror_mode": {
    "name": "ipython",
    "version": 2
   },
   "file_extension": ".py",
   "mimetype": "text/x-python",
   "name": "python",
   "nbconvert_exporter": "python",
   "pygments_lexer": "ipython2",
   "version": "2.7.9"
  }
 },
 "nbformat": 4,
 "nbformat_minor": 0
}
