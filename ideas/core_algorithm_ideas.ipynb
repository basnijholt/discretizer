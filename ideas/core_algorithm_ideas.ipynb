{
 "cells": [
  {
   "cell_type": "code",
   "execution_count": 1,
   "metadata": {
    "collapsed": true
   },
   "outputs": [],
   "source": [
    "import itertools\n",
    "import numpy as np\n",
    "from math import factorial\n",
    "from functools import reduce\n",
    "from operator import mul\n",
    "\n",
    "\n",
    "def make_tb_coefs():\n",
    "    cache = {}\n",
    "\n",
    "    def tb_coefs_1d(n):\n",
    "        \"\"\"Return tight-binding coefficients of k**n.\"\"\"\n",
    "        if n in cache:\n",
    "            return cache[n]\n",
    "\n",
    "        d = 1 + (n+1) // 2\n",
    "        a = (1j * np.arange(1-d, d))**np.arange(2*d - 1).reshape(-1, 1)\n",
    "        a = sympy.Matrix(a)\n",
    "        a = a.inv().T \n",
    "        result = list(factorial(n) * (a.row(n)) / sympy.Symbol('a')**n)\n",
    "        \n",
    "        cache[n] = result\n",
    "        return result\n",
    "    return tb_coefs_1d\n",
    "\n",
    "tb_coefs_1d = make_tb_coefs()\n",
    "del make_tb_coefs\n",
    "\n",
    "\n",
    "def tb_coefs(k_powers):\n",
    "    \"\"\"Calculate tight-binding coefficients of a monomial of momenta.\n",
    "\n",
    "    Parameters:\n",
    "    -----------\n",
    "    k_powers : list of integers\n",
    "       List with powers of momenta in each direction, e.g. `k_x**2 * k_y` would\n",
    "       correspond to `(2, 1)`.\n",
    "\n",
    "    Returns:\n",
    "    --------\n",
    "    coefficients : iterator\n",
    "        An iterator of (vector, coefficient) tuples, where vector is an integer\n",
    "        tuple corresponding to the hopping, and coefficient is a sympy\n",
    "        constant expression (complex rational).\n",
    "    \"\"\"\n",
    "    dir_coefs = [tb_coefs_1d(n)[::-1] for n in k_powers]\n",
    "    deltas = [range(-len(i)//2 + 1, len(i)//2 + 1) for i in dir_coefs]\n",
    "    hopping_vecs = (i for i in itertools.product(*deltas))\n",
    "    hopping_coefs = (i for i in itertools.product(*dir_coefs))\n",
    "    prod = lambda x, y=1: reduce(mul, x, y)\n",
    "    result = ((i, prod(j)) for i, j in zip(hopping_vecs, hopping_coefs))\n",
    "    return ((i, j) for i, j in result if j != 0)\n",
    "\n",
    "\n",
    "def derivate(expression, k_powers):\n",
    "    \"\"\" Calculate derivate of expression for given momentum powers:\n",
    "    \n",
    "    Parameters:\n",
    "    -----------\n",
    "    expression : sympy expression \n",
    "        Valid sympy expression containing functions to to be derivated\n",
    "    k_powers : list of integers\n",
    "       List with powers of momenta in each direction, e.g. `k_x**2 * k_y` would\n",
    "       correspond to `(2, 1)`.\n",
    "    \n",
    "    Returns:\n",
    "    --------\n",
    "    expression : derivate of input expression\n",
    "    \"\"\"\n",
    "    coefs = tb_coefs(k_powers)\n",
    "    output = []\n",
    "    a = sympy.Symbol('a')\n",
    "    for v, coef in coefs:\n",
    "        subs = {c: c+v*a for c, v in zip(coord, v)}\n",
    "        output.append(coef * expression.subs(subs))\n",
    "    return sympy.expand(sympy.Add(*output))    "
   ]
  },
  {
   "cell_type": "markdown",
   "metadata": {},
   "source": [
    "## Assumptions\n",
    "* space_dependent - these are cast to functions, not commutative\n",
    "\n",
    "* momentum_symbols - will be specified (default to kx, ky, kz probably) and not commutative\n",
    "\n",
    "* constant - commutative, everything else\n",
    "\n",
    "* coordinates are always create as symbol with commutative=False\n",
    "\n",
    "* lattice constant is always a"
   ]
  },
  {
   "cell_type": "code",
   "execution_count": 2,
   "metadata": {
    "collapsed": false
   },
   "outputs": [],
   "source": [
    "import sympy\n",
    "from sympy.interactive import printing\n",
    "printing.init_printing(use_latex='mathjax')"
   ]
  },
  {
   "cell_type": "code",
   "execution_count": 3,
   "metadata": {
    "collapsed": true
   },
   "outputs": [],
   "source": [
    "coord = sympy.symbols('x y z', commutative=False)"
   ]
  },
  {
   "cell_type": "code",
   "execution_count": 4,
   "metadata": {
    "collapsed": true
   },
   "outputs": [],
   "source": [
    "def substitute_functions(expression, space_dependent=[]):\n",
    "    symbols = [s for s in expr.atoms(sympy.Symbol) if s.name in space_dependent]\n",
    "    subs = {s: sympy.Function(s.name)(*coord) for s in symbols}\n",
    "    \n",
    "    return expression.subs(subs)"
   ]
  },
  {
   "cell_type": "markdown",
   "metadata": {},
   "source": [
    "### Defining input expression"
   ]
  },
  {
   "cell_type": "code",
   "execution_count": 5,
   "metadata": {
    "collapsed": false
   },
   "outputs": [],
   "source": [
    "A, B, C, D = sympy.symbols('A B C D', commutative=False)\n",
    "space_dependent = ['A', 'B']"
   ]
  },
  {
   "cell_type": "code",
   "execution_count": 6,
   "metadata": {
    "collapsed": false
   },
   "outputs": [
    {
     "data": {
      "text/latex": [
       "$$A B C + D$$"
      ],
      "text/plain": [
       "A⋅B⋅C + D"
      ]
     },
     "execution_count": 6,
     "metadata": {},
     "output_type": "execute_result"
    }
   ],
   "source": [
    "expr = A*B*C + D; expr"
   ]
  },
  {
   "cell_type": "code",
   "execution_count": 7,
   "metadata": {
    "collapsed": false
   },
   "outputs": [
    {
     "data": {
      "text/latex": [
       "$$D + A{\\left (x,y,z \\right )} B{\\left (x,y,z \\right )} C$$"
      ],
      "text/plain": [
       "D + A(x, y, z)⋅B(x, y, z)⋅C"
      ]
     },
     "execution_count": 7,
     "metadata": {},
     "output_type": "execute_result"
    }
   ],
   "source": [
    "expr = substitute_functions(expr, space_dependent); expr"
   ]
  },
  {
   "cell_type": "markdown",
   "metadata": {},
   "source": [
    "# derivate"
   ]
  },
  {
   "cell_type": "code",
   "execution_count": 9,
   "metadata": {
    "collapsed": false
   },
   "outputs": [
    {
     "data": {
      "text/latex": [
       "$$D + A{\\left (x,y,z \\right )} B{\\left (x,y,z \\right )} C$$"
      ],
      "text/plain": [
       "D + A(x, y, z)⋅B(x, y, z)⋅C"
      ]
     },
     "execution_count": 9,
     "metadata": {},
     "output_type": "execute_result"
    }
   ],
   "source": [
    "expr"
   ]
  },
  {
   "cell_type": "code",
   "execution_count": 11,
   "metadata": {
    "collapsed": false
   },
   "outputs": [
    {
     "data": {
      "text/latex": [
       "$$- \\frac{0.5 i}{a} A{\\left (- a + x,y,z \\right )} B{\\left (- a + x,y,z \\right )} C + \\frac{0.5 i}{a} A{\\left (a + x,y,z \\right )} B{\\left (a + x,y,z \\right )} C$$"
      ],
      "text/plain": [
       "  - -0.5⋅ⅈ⋅A(-a + x, y, z)⋅B(-a + x, y, z)⋅C    0.5⋅ⅈ⋅A(a + x, y, z)⋅B(a + x, \n",
       "- ─────────────────────────────────────────── + ──────────────────────────────\n",
       "                       a                                          a           \n",
       "\n",
       "y, z)⋅C\n",
       "───────\n",
       "       "
      ]
     },
     "execution_count": 11,
     "metadata": {},
     "output_type": "execute_result"
    }
   ],
   "source": [
    "derivate(expr, (1, 0, 0))"
   ]
  }
 ],
 "metadata": {
  "kernelspec": {
   "display_name": "Python 3",
   "language": "python3",
   "name": "python3"
  },
  "language_info": {
   "codemirror_mode": {
    "name": "ipython",
    "version": 3
   },
   "file_extension": ".py",
   "mimetype": "text/x-python",
   "name": "python",
   "nbconvert_exporter": "python",
   "pygments_lexer": "ipython3",
   "version": "3.4.3"
  }
 },
 "nbformat": 4,
 "nbformat_minor": 0
}
