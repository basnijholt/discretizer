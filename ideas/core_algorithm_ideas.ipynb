{
 "cells": [
  {
   "cell_type": "markdown",
   "metadata": {},
   "source": [
    "## Assumptions\n",
    "* space_dependent - these are cast to functions, not commutative\n",
    "\n",
    "* momentum_symbols - will be specified (default to kx, ky, kz probably) and not commutative\n",
    "\n",
    "* constant - commutative, everything else\n",
    "\n",
    "* coordinates are always create as symbol with commutative=False\n",
    "\n",
    "* lattice constant is always a"
   ]
  },
  {
   "cell_type": "code",
   "execution_count": 1,
   "metadata": {
    "collapsed": false
   },
   "outputs": [],
   "source": [
    "import sympy\n",
    "from sympy.interactive import printing\n",
    "printing.init_printing(use_latex='mathjax')\n",
    "\n",
    "from discretizer import coord, a\n",
    "from discretizer import substitute_functions, derivate"
   ]
  },
  {
   "cell_type": "markdown",
   "metadata": {},
   "source": [
    "### Defining input expression"
   ]
  },
  {
   "cell_type": "code",
   "execution_count": 2,
   "metadata": {
    "collapsed": false
   },
   "outputs": [],
   "source": [
    "A, B, C, D = sympy.symbols('A B C D', commutative=False)\n",
    "space_dependent = ['A', 'B']"
   ]
  },
  {
   "cell_type": "code",
   "execution_count": 3,
   "metadata": {
    "collapsed": false
   },
   "outputs": [
    {
     "data": {
      "text/latex": [
       "$$B C A + D$$"
      ],
      "text/plain": [
       "B⋅C⋅A + D"
      ]
     },
     "execution_count": 3,
     "metadata": {},
     "output_type": "execute_result"
    }
   ],
   "source": [
    "expr = B*C*A + D; expr"
   ]
  },
  {
   "cell_type": "code",
   "execution_count": 4,
   "metadata": {
    "collapsed": false
   },
   "outputs": [
    {
     "data": {
      "text/latex": [
       "$$D + B{\\left (x,y,z \\right )} C A{\\left (x,y,z \\right )}$$"
      ],
      "text/plain": [
       "D + B(x, y, z)⋅C⋅A(x, y, z)"
      ]
     },
     "execution_count": 4,
     "metadata": {},
     "output_type": "execute_result"
    }
   ],
   "source": [
    "expr = substitute_functions(expr, space_dependent); expr"
   ]
  },
  {
   "cell_type": "markdown",
   "metadata": {},
   "source": [
    "# derivate"
   ]
  },
  {
   "cell_type": "code",
   "execution_count": 5,
   "metadata": {
    "collapsed": false
   },
   "outputs": [
    {
     "data": {
      "text/latex": [
       "$$D + B{\\left (x,y,z \\right )} C A{\\left (x,y,z \\right )}$$"
      ],
      "text/plain": [
       "D + B(x, y, z)⋅C⋅A(x, y, z)"
      ]
     },
     "execution_count": 5,
     "metadata": {},
     "output_type": "execute_result"
    }
   ],
   "source": [
    "expr"
   ]
  },
  {
   "cell_type": "code",
   "execution_count": 6,
   "metadata": {
    "collapsed": false
   },
   "outputs": [
    {
     "data": {
      "text/latex": [
       "$$- \\frac{0.5 i}{a} B{\\left (- a + x,y,z \\right )} C A{\\left (- a + x,y,z \\right )} + \\frac{0.5 i}{a} B{\\left (a + x,y,z \\right )} C A{\\left (a + x,y,z \\right )}$$"
      ],
      "text/plain": [
       "  - -0.5⋅ⅈ⋅B(-a + x, y, z)⋅C⋅A(-a + x, y, z)    0.5⋅ⅈ⋅B(a + x, y, z)⋅C⋅A(a + x\n",
       "- ─────────────────────────────────────────── + ──────────────────────────────\n",
       "                       a                                          a           \n",
       "\n",
       ", y, z)\n",
       "───────\n",
       "       "
      ]
     },
     "execution_count": 6,
     "metadata": {},
     "output_type": "execute_result"
    }
   ],
   "source": [
    "derivate(expr, (1, 0, 0))"
   ]
  },
  {
   "cell_type": "code",
   "execution_count": null,
   "metadata": {
    "collapsed": true
   },
   "outputs": [],
   "source": []
  }
 ],
 "metadata": {
  "kernelspec": {
   "display_name": "Python 3",
   "language": "python3",
   "name": "python3"
  },
  "language_info": {
   "codemirror_mode": {
    "name": "ipython",
    "version": 3
   },
   "file_extension": ".py",
   "mimetype": "text/x-python",
   "name": "python",
   "nbconvert_exporter": "python",
   "pygments_lexer": "ipython3",
   "version": "3.4.3"
  }
 },
 "nbformat": 4,
 "nbformat_minor": 0
}
