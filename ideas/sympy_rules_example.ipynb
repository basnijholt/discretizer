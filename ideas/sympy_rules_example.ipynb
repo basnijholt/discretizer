{
 "cells": [
  {
   "cell_type": "markdown",
   "metadata": {},
   "source": [
    "## Using custom rules to bring expressions into a standard form"
   ]
  },
  {
   "cell_type": "markdown",
   "metadata": {},
   "source": [
    "Not sure if that is the best way, but it's something that works. ``replace`` can also work with wildcards, so maybe that would be a more general option.\n",
    "\n",
    "What I want to address here is that by specifying ``noncommutative=False`` also $k_y$ and $V(x)$ are not commutative. One can use substitution rules to fix that issue:"
   ]
  },
  {
   "cell_type": "code",
   "execution_count": 37,
   "metadata": {
    "collapsed": true
   },
   "outputs": [],
   "source": [
    "import sympy\n",
    "sympy.init_printing()"
   ]
  },
  {
   "cell_type": "code",
   "execution_count": 52,
   "metadata": {
    "collapsed": false
   },
   "outputs": [],
   "source": [
    "kx, ky = sympy.symbols(\"k_x, k_y\", commutative=False)"
   ]
  },
  {
   "cell_type": "code",
   "execution_count": 39,
   "metadata": {
    "collapsed": true
   },
   "outputs": [],
   "source": [
    "a, b = sympy.symbols(\"a, b\", commutative=True)"
   ]
  },
  {
   "cell_type": "code",
   "execution_count": 54,
   "metadata": {
    "collapsed": false
   },
   "outputs": [],
   "source": [
    "V = sympy.Function(\"V\")\n",
    "x, y = sympy.symbols(\"x, y\", commutative=False)"
   ]
  },
  {
   "cell_type": "code",
   "execution_count": 56,
   "metadata": {
    "collapsed": false
   },
   "outputs": [
    {
     "data": {
      "image/png": "[encoded data removed]",
      "text/latex": [
       "$$V{\\left (x,y \\right )}$$"
      ],
      "text/plain": [
       "V(x, y)"
      ]
     },
     "execution_count": 56,
     "metadata": {},
     "output_type": "execute_result"
    }
   ],
   "source": [
    "V(x, y)"
   ]
  },
  {
   "cell_type": "code",
   "execution_count": 62,
   "metadata": {
    "collapsed": false
   },
   "outputs": [],
   "source": [
    "expression = ky*ky *V(x)* a * kx"
   ]
  },
  {
   "cell_type": "code",
   "execution_count": 63,
   "metadata": {
    "collapsed": false
   },
   "outputs": [
    {
     "data": {
      "image/png": "[encoded data removed]",
      "text/latex": [
       "$$a k_{y}^{2} V{\\left (x \\right )} k_{x}$$"
      ],
      "text/plain": [
       "     2        \n",
       "a⋅k_y ⋅V(x)⋅kₓ"
      ]
     },
     "execution_count": 63,
     "metadata": {},
     "output_type": "execute_result"
    }
   ],
   "source": [
    "expression"
   ]
  },
  {
   "cell_type": "code",
   "execution_count": 66,
   "metadata": {
    "collapsed": false
   },
   "outputs": [
    {
     "data": {
      "image/png": "[encoded data removed]",
      "text/latex": [
       "$$a k_{y} V{\\left (x \\right )} k_{y} k_{x}$$"
      ],
      "text/plain": [
       "a⋅k_y⋅V(x)⋅k_y⋅kₓ"
      ]
     },
     "execution_count": 66,
     "metadata": {},
     "output_type": "execute_result"
    }
   ],
   "source": [
    "expression.subs([(ky*V(x), V(x)*ky)], simultaneous=True)"
   ]
  },
  {
   "cell_type": "code",
   "execution_count": 67,
   "metadata": {
    "collapsed": true
   },
   "outputs": [],
   "source": [
    "def apply_rules_recursively(expr, rules):\n",
    "    expression2 = None\n",
    "    while expression2 != expr:\n",
    "        expression2 = expr\n",
    "        expr = expr.subs(rules)\n",
    "    \n",
    "    return expr"
   ]
  },
  {
   "cell_type": "code",
   "execution_count": 68,
   "metadata": {
    "collapsed": true
   },
   "outputs": [],
   "source": [
    "rules = [(ky*kx, kx*ky), (ky*V(x), V(x)*ky), (kx*V(y), V(y)*kx)]"
   ]
  },
  {
   "cell_type": "code",
   "execution_count": 69,
   "metadata": {
    "collapsed": false
   },
   "outputs": [
    {
     "data": {
      "image/png": "[encoded data removed]",
      "text/latex": [
       "$$a V{\\left (x \\right )} k_{x} k_{y}^{2}$$"
      ],
      "text/plain": [
       "             2\n",
       "a⋅V(x)⋅kₓ⋅k_y "
      ]
     },
     "execution_count": 69,
     "metadata": {},
     "output_type": "execute_result"
    }
   ],
   "source": [
    "apply_rules_recursively(expression, rules)"
   ]
  },
  {
   "cell_type": "code",
   "execution_count": 70,
   "metadata": {
    "collapsed": false
   },
   "outputs": [
    {
     "data": {
      "image/png": "[encoded data removed]",
      "text/latex": [
       "$$k_{x} V{\\left (x \\right )} k_{y} V{\\left (y \\right )}$$"
      ],
      "text/plain": [
       "kₓ⋅V(x)⋅k_y⋅V(y)"
      ]
     },
     "execution_count": 70,
     "metadata": {},
     "output_type": "execute_result"
    }
   ],
   "source": [
    "apply_rules_recursively(kx * ky *V(x)*V(y), rules)"
   ]
  },
  {
   "cell_type": "markdown",
   "metadata": {},
   "source": [
    "## In principle one could also do rules that give me derivatives of functions"
   ]
  },
  {
   "cell_type": "code",
   "execution_count": 71,
   "metadata": {
    "collapsed": false
   },
   "outputs": [],
   "source": [
    "V = sympy.Function('V')\n",
    "x, y, z = sympy.symbols(\"x, y, z\", commutative=False)\n",
    "x2 = sympy.symbols(\"x2\", commutative=True)"
   ]
  },
  {
   "cell_type": "markdown",
   "metadata": {},
   "source": [
    "Those kind of rules you could make of course automatically."
   ]
  },
  {
   "cell_type": "code",
   "execution_count": 77,
   "metadata": {
    "collapsed": false
   },
   "outputs": [],
   "source": [
    "rules2 = rules\n",
    "rules2.extend([(kx*V(x), -sympy.I*sympy.diff(V(x), x)*kx),\n",
    "               (kx*sympy.diff(V(x),x),  -sympy.I*sympy.diff(sympy.diff(V(x),x), x)*kx)])"
   ]
  },
  {
   "cell_type": "code",
   "execution_count": 79,
   "metadata": {
    "collapsed": false
   },
   "outputs": [
    {
     "data": {
      "image/png": "[encoded data removed]",
      "text/latex": [
       "$$- i \\frac{d}{d x} V{\\left (x \\right )} k_{x}^{2}$$"
      ],
      "text/plain": [
       "   d          2\n",
       "-ⅈ⋅──(V(x))⋅kₓ \n",
       "   dx          "
      ]
     },
     "execution_count": 79,
     "metadata": {},
     "output_type": "execute_result"
    }
   ],
   "source": [
    "apply_rules_recursively(kx*V(x)*kx, rules2)"
   ]
  },
  {
   "cell_type": "code",
   "execution_count": 78,
   "metadata": {
    "collapsed": false
   },
   "outputs": [
    {
     "data": {
      "image/png": "[encoded data removed]",
      "text/latex": [
       "$$- \\frac{d^{2}}{d x^{2}}  V{\\left (x \\right )} k_{x}^{3}$$"
      ],
      "text/plain": [
       "   2          \n",
       "  d          3\n",
       "-───(V(x))⋅kₓ \n",
       "   2          \n",
       " dx           "
      ]
     },
     "execution_count": 78,
     "metadata": {},
     "output_type": "execute_result"
    }
   ],
   "source": [
    "apply_rules_recursively(kx*kx*V(x)*kx, rules2)"
   ]
  },
  {
   "cell_type": "markdown",
   "metadata": {},
   "source": [
    "Possibly for this kind of thing replace which can do pattern matching might be better (didn't check.)"
   ]
  },
  {
   "cell_type": "code",
   "execution_count": null,
   "metadata": {
    "collapsed": true
   },
   "outputs": [],
   "source": []
  }
 ],
 "metadata": {
  "kernelspec": {
   "display_name": "Python 2",
   "language": "python",
   "name": "python2"
  },
  "language_info": {
   "codemirror_mode": {
    "name": "ipython",
    "version": 2
   },
   "file_extension": ".py",
   "mimetype": "text/x-python",
   "name": "python",
   "nbconvert_exporter": "python",
   "pygments_lexer": "ipython2",
   "version": "2.7.9"
  }
 },
 "nbformat": 4,
 "nbformat_minor": 0
}
