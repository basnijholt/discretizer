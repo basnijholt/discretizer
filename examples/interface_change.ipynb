{
 "cells": [
  {
   "cell_type": "code",
   "execution_count": 1,
   "metadata": {
    "collapsed": true
   },
   "outputs": [],
   "source": [
    "from discretizer import Discretizer\n",
    "from discretizer import momentum_operators\n",
    "from discretizer import coordinates\n",
    "\n",
    "import sympy\n",
    "sympy.init_printing(use_latex='mathjax')"
   ]
  },
  {
   "cell_type": "code",
   "execution_count": 2,
   "metadata": {
    "collapsed": false
   },
   "outputs": [],
   "source": [
    "kx, ky, kz = momentum_operators\n",
    "x, y, z = coordinates\n",
    "A, B, C = sympy.symbols('A B C', commutative=False)"
   ]
  },
  {
   "cell_type": "markdown",
   "metadata": {},
   "source": [
    "# Before (won't work anymore)"
   ]
  },
  {
   "cell_type": "code",
   "execution_count": null,
   "metadata": {
    "collapsed": false
   },
   "outputs": [],
   "source": [
    "hamiltonian = kx*A*kx + ky*B*ky + B*kz**2 + C\n",
    "\n",
    "space_dependent = {'A', 'B', 'C'}\n",
    "discrete_coordinates = {'x', 'y'}\n",
    "function_arguments = {'x', 'y'}\n",
    "\n",
    "tb = Discretizer(hamiltonian, space_dependent, discrete_coordinates, function_arguments,\n",
    "                 lattice_constant=2.0, verbose=True)"
   ]
  },
  {
   "cell_type": "markdown",
   "metadata": {},
   "source": [
    "# Now"
   ]
  },
  {
   "cell_type": "code",
   "execution_count": 3,
   "metadata": {
    "collapsed": false
   },
   "outputs": [
    {
     "name": "stdout",
     "output_type": "stream",
     "text": [
      "Discrete coordinates set to:  ['x', 'y']\n",
      "\n",
      "Function generated for (0, 1):\n",
      "def _anonymous_func(site1, site2, p):\n",
      "    (x, y, ) = site2.pos\n",
      "    B = p.B\n",
      "    return (-0.25*B(x, 1.0 + y))\n",
      "\n",
      "Function generated for (1, 0):\n",
      "def _anonymous_func(site1, site2, p):\n",
      "    (x, y, ) = site2.pos\n",
      "    A = p.A\n",
      "    return (-0.25*A(1.0 + x, y))\n",
      "\n",
      "Function generated for (0, 0):\n",
      "def _anonymous_func(site, p):\n",
      "    (x, y, ) = site.pos\n",
      "    k_z = p.k_z\n",
      "    C, B, A = p.C, p.B, p.A\n",
      "    return (0.25*A(-1.0 + x, y) + 0.25*A(1.0 + x, y) + B(x, y)*k_z**2 + 0.25*B(x, -1.0 + y) + 0.25*B(x, 1.0 + y) + C(x, y))\n",
      "\n"
     ]
    }
   ],
   "source": [
    "hamiltonian = kx * A(x,y) * kx + ky * B(x,y) * ky + B(x,y) * kz**2 + C(x,y)\n",
    "tb = Discretizer(hamiltonian, discrete_coordinates={'x','y'}, lattice_constant=2.0, verbose=True)"
   ]
  },
  {
   "cell_type": "markdown",
   "metadata": {},
   "source": [
    "# Note:\n",
    "One can use ``subs`` method provided by sympy to simplify operation of substituting symbols with functions"
   ]
  }
 ],
 "metadata": {
  "kernelspec": {
   "display_name": "Python 3",
   "language": "python",
   "name": "py35"
  },
  "language_info": {
   "codemirror_mode": {
    "name": "ipython",
    "version": 3
   },
   "file_extension": ".py",
   "mimetype": "text/x-python",
   "name": "python",
   "nbconvert_exporter": "python",
   "pygments_lexer": "ipython3",
   "version": "3.5.2"
  }
 },
 "nbformat": 4,
 "nbformat_minor": 1
}
