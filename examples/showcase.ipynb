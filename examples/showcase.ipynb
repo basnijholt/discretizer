{
 "cells": [
  {
   "cell_type": "markdown",
   "metadata": {},
   "source": [
    "# Showcase"
   ]
  },
  {
   "cell_type": "markdown",
   "metadata": {},
   "source": [
    "This notebooks shows general features of interface. For examples please see:"
   ]
  },
  {
   "cell_type": "markdown",
   "metadata": {},
   "source": [
    "1. [Quantum Stadium](examples/stadium.ipynb)\n",
    "2. [Edge states in HgTe](examples/qsh.ipynb)"
   ]
  },
  {
   "cell_type": "code",
   "execution_count": 1,
   "metadata": {
    "collapsed": true
   },
   "outputs": [],
   "source": [
    "import sympy\n",
    "sympy.init_printing(use_latex='mathjax')"
   ]
  },
  {
   "cell_type": "markdown",
   "metadata": {},
   "source": [
    "# Imports discretizer"
   ]
  },
  {
   "cell_type": "code",
   "execution_count": 2,
   "metadata": {
    "collapsed": true
   },
   "outputs": [],
   "source": [
    "from discretizer import Discretizer\n",
    "from discretizer import momentum_operators\n",
    "from discretizer import coordinates"
   ]
  },
  {
   "cell_type": "code",
   "execution_count": 3,
   "metadata": {
    "collapsed": false
   },
   "outputs": [],
   "source": [
    "kx, ky, kz = momentum_operators\n",
    "x, y, z = coordinates\n",
    "A, B, C = sympy.symbols('A B C', commutative=False)\n",
    "\n",
    "hamiltonian = sympy.Matrix([[kx * A(x) * kx, B(x,y)*kx], [kx*B(x,y), C*ky**2]],)"
   ]
  },
  {
   "cell_type": "code",
   "execution_count": 4,
   "metadata": {
    "collapsed": false
   },
   "outputs": [
    {
     "data": {
      "text/latex": [
       "$$\\left[\\begin{matrix}k_{x} A{\\left (x \\right )} k_{x} & B{\\left (x,y \\right )} k_{x}\\\\k_{x} B{\\left (x,y \\right )} & C k_{y}^{2}\\end{matrix}\\right]$$"
      ],
      "text/plain": [
       "⎡kₓ⋅A(x)⋅kₓ  B(x, y)⋅kₓ⎤\n",
       "⎢                      ⎥\n",
       "⎢                   2  ⎥\n",
       "⎣kₓ⋅B(x, y)    C⋅k_y   ⎦"
      ]
     },
     "execution_count": 4,
     "metadata": {},
     "output_type": "execute_result"
    }
   ],
   "source": [
    "hamiltonian"
   ]
  },
  {
   "cell_type": "markdown",
   "metadata": {},
   "source": [
    "# class interface"
   ]
  },
  {
   "cell_type": "code",
   "execution_count": 5,
   "metadata": {
    "collapsed": false
   },
   "outputs": [
    {
     "name": "stdout",
     "output_type": "stream",
     "text": [
      "Discrete coordinates set to:  ['x', 'y']\n",
      "\n",
      "Function generated for (0, 1):\n",
      "def _anonymous_func(site1, site2, p):\n",
      "    (x, y, ) = site2.pos\n",
      "    C = p.C\n",
      "    return (np.array([[0, 0], [0, -0.25*C]]))\n",
      "\n",
      "Function generated for (1, 0):\n",
      "def _anonymous_func(site1, site2, p):\n",
      "    (x, y, ) = site2.pos\n",
      "    A, B = p.A, p.B\n",
      "    return (np.array([[-0.25*A(1.0 + x), 0.25*1.j*B(2.0 + x, y)], [0.25*1.j*B(x, y), 0]]))\n",
      "\n",
      "Function generated for (0, 0):\n",
      "def _anonymous_func(site, p):\n",
      "    (x, y, ) = site.pos\n",
      "    C = p.C\n",
      "    A = p.A\n",
      "    return (np.array([[0.25*A(-1.0 + x) + 0.25*A(1.0 + x), 0], [0, 0.5*C]]))\n",
      "\n"
     ]
    }
   ],
   "source": [
    "tb = Discretizer(hamiltonian, discrete_coordinates={'x', 'y'}, lattice_constant=2.0, verbose=True)"
   ]
  },
  {
   "cell_type": "code",
   "execution_count": 6,
   "metadata": {
    "collapsed": false
   },
   "outputs": [
    {
     "data": {
      "text/latex": [
       "$$\\left[\\begin{matrix}k_{x} A{\\left (x \\right )} k_{x} & B{\\left (x,y \\right )} k_{x}\\\\k_{x} B{\\left (x,y \\right )} & C k_{y}^{2}\\end{matrix}\\right]$$"
      ],
      "text/plain": [
       "⎡kₓ⋅A(x)⋅kₓ  B(x, y)⋅kₓ⎤\n",
       "⎢                      ⎥\n",
       "⎢                   2  ⎥\n",
       "⎣kₓ⋅B(x, y)    C⋅k_y   ⎦"
      ]
     },
     "execution_count": 6,
     "metadata": {},
     "output_type": "execute_result"
    }
   ],
   "source": [
    "tb.input_hamiltonian"
   ]
  },
  {
   "cell_type": "code",
   "execution_count": 7,
   "metadata": {
    "collapsed": false
   },
   "outputs": [
    {
     "data": {
      "text/latex": [
       "$$\\left \\{ \\left ( 0, \\quad 0\\right ) : \\left[\\begin{matrix}\\frac{1}{a^{2}} A{\\left (- \\frac{a}{2} + x \\right )} + \\frac{1}{a^{2}} A{\\left (\\frac{a}{2} + x \\right )} & 0\\\\0 & \\frac{2 C}{a^{2}}\\end{matrix}\\right], \\quad \\left ( 0, \\quad 1\\right ) : \\left[\\begin{matrix}0 & 0\\\\0 & - \\frac{C}{a^{2}}\\end{matrix}\\right], \\quad \\left ( 1, \\quad 0\\right ) : \\left[\\begin{matrix}- \\frac{1}{a^{2}} A{\\left (\\frac{a}{2} + x \\right )} & \\frac{i}{2 a} B{\\left (a + x,y \\right )}\\\\\\frac{i}{2 a} B{\\left (x,y \\right )} & 0\\end{matrix}\\right]\\right \\}$$"
      ],
      "text/plain": [
       "⎧        ⎡ ⎛  a    ⎞    ⎛a    ⎞     ⎤                            ⎡  ⎛a    ⎞   \n",
       "⎪        ⎢A⎜- ─ + x⎟   A⎜─ + x⎟     ⎥                            ⎢-A⎜─ + x⎟   \n",
       "⎪        ⎢ ⎝  2    ⎠    ⎝2    ⎠     ⎥                            ⎢  ⎝2    ⎠   \n",
       "⎪(0, 0): ⎢────────── + ────────   0 ⎥, (0, 1): ⎡0   0 ⎤, (1, 0): ⎢──────────  \n",
       "⎪        ⎢     2           2        ⎥          ⎢      ⎥          ⎢     2      \n",
       "⎨        ⎢    a           a         ⎥          ⎢   -C ⎥          ⎢    a       \n",
       "⎪        ⎢                          ⎥          ⎢0  ───⎥          ⎢            \n",
       "⎪        ⎢                       2⋅C⎥          ⎢     2⎥          ⎢ⅈ⋅B(x, y)   \n",
       "⎪        ⎢          0            ───⎥          ⎣    a ⎦          ⎢─────────   \n",
       "⎪        ⎢                         2⎥                            ⎣   2⋅a      \n",
       "⎩        ⎣                        a ⎦                                         \n",
       "\n",
       "             ⎤⎫\n",
       "             ⎥⎪\n",
       "ⅈ⋅B(a + x, y)⎥⎪\n",
       "─────────────⎥⎪\n",
       "     2⋅a     ⎥⎪\n",
       "             ⎥⎬\n",
       "             ⎥⎪\n",
       "             ⎥⎪\n",
       "      0      ⎥⎪\n",
       "             ⎦⎪\n",
       "              ⎭"
      ]
     },
     "execution_count": 7,
     "metadata": {},
     "output_type": "execute_result"
    }
   ],
   "source": [
    "tb.symbolic_hamiltonian"
   ]
  },
  {
   "cell_type": "code",
   "execution_count": 8,
   "metadata": {
    "collapsed": false
   },
   "outputs": [
    {
     "data": {
      "text/plain": [
       "kwant.lattice.Monatomic([[2.0, 0.0], [0.0, 2.0]], [0.0, 0.0], '')"
      ]
     },
     "execution_count": 8,
     "metadata": {},
     "output_type": "execute_result"
    }
   ],
   "source": [
    "tb.lattice"
   ]
  },
  {
   "cell_type": "code",
   "execution_count": 9,
   "metadata": {
    "collapsed": false
   },
   "outputs": [
    {
     "data": {
      "text/plain": [
       "(<function _anonymous_func>,\n",
       " {HoppingKind((0, 1), kwant.lattice.Monatomic([[2.0, 0.0], [0.0, 2.0]], [0.0, 0.0], '')): <function _anonymous_func>,\n",
       "  HoppingKind((1, 0), kwant.lattice.Monatomic([[2.0, 0.0], [0.0, 2.0]], [0.0, 0.0], '')): <function _anonymous_func>})"
      ]
     },
     "execution_count": 9,
     "metadata": {},
     "output_type": "execute_result"
    }
   ],
   "source": [
    "tb.onsite, tb.hoppings"
   ]
  }
 ],
 "metadata": {
  "anaconda-cloud": {},
  "kernelspec": {
   "display_name": "Python 3",
   "language": "python",
   "name": "py35"
  },
  "language_info": {
   "codemirror_mode": {
    "name": "ipython",
    "version": 3
   },
   "file_extension": ".py",
   "mimetype": "text/x-python",
   "name": "python",
   "nbconvert_exporter": "python",
   "pygments_lexer": "ipython3",
   "version": "3.5.2"
  }
 },
 "nbformat": 4,
 "nbformat_minor": 0
}
