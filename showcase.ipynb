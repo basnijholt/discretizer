{
 "cells": [
  {
   "cell_type": "markdown",
   "metadata": {},
   "source": [
    "# Showcase"
   ]
  },
  {
   "cell_type": "markdown",
   "metadata": {},
   "source": [
    "This notebooks shows general features of interface. For examples please see:"
   ]
  },
  {
   "cell_type": "markdown",
   "metadata": {},
   "source": [
    "1. [Quantum Stadium](examples/stadium.ipynb)\n",
    "2. [Edge states in HgTe](examples/qsh.ipynb)"
   ]
  },
  {
   "cell_type": "code",
   "execution_count": 1,
   "metadata": {
    "collapsed": true
   },
   "outputs": [],
   "source": [
    "import sympy\n",
    "from sympy.interactive import printing\n",
    "printing.init_printing(use_latex='mathjax')"
   ]
  },
  {
   "cell_type": "markdown",
   "metadata": {},
   "source": [
    "# Imports discretizer"
   ]
  },
  {
   "cell_type": "code",
   "execution_count": 2,
   "metadata": {
    "collapsed": true
   },
   "outputs": [],
   "source": [
    "from discretizer import Discretizer\n",
    "from discretizer import momentum_operators"
   ]
  },
  {
   "cell_type": "code",
   "execution_count": 3,
   "metadata": {
    "collapsed": false
   },
   "outputs": [
    {
     "data": {
      "text/latex": [
       "$$\\left[\\begin{matrix}k_{x} A k_{x} + k_{y} A k_{y} & k_{x} B\\\\B k_{x} & C\\end{matrix}\\right]$$"
      ],
      "text/plain": [
       "⎡kₓ⋅A⋅kₓ + k_y⋅A⋅k_y  kₓ⋅B⎤\n",
       "⎢                         ⎥\n",
       "⎣       B⋅kₓ           C  ⎦"
      ]
     },
     "execution_count": 3,
     "metadata": {},
     "output_type": "execute_result"
    }
   ],
   "source": [
    "kx, ky, kz = momentum_operators\n",
    "\n",
    "A, B, C = sympy.symbols('A B C', commutative=False)\n",
    "H = sympy.Matrix([[kx*A*kx +ky*A*ky, kx*B], [B*kx, C]]); H"
   ]
  },
  {
   "cell_type": "code",
   "execution_count": 4,
   "metadata": {
    "collapsed": true
   },
   "outputs": [],
   "source": [
    "space_dependent = {'A', 'B'}\n",
    "discrete_coordinates = {'x', 'y'}\n",
    "function_arguments = {'x'}"
   ]
  },
  {
   "cell_type": "markdown",
   "metadata": {},
   "source": [
    "# class interface"
   ]
  },
  {
   "cell_type": "code",
   "execution_count": 5,
   "metadata": {
    "collapsed": false
   },
   "outputs": [
    {
     "name": "stdout",
     "output_type": "stream",
     "text": [
      "Discrete coordinates set to:  ['x', 'y']\n",
      "\n",
      "Function generated for (0, 1):\n",
      "def _anonymous_func(site1, site2, p):\n",
      "    (x, y, ) = site2.pos\n",
      "    A = p.A\n",
      "    return (np.array([[-0.25*A(x), 0], [0, 0]]))\n",
      "\n",
      "Function generated for (1, 0):\n",
      "def _anonymous_func(site1, site2, p):\n",
      "    (x, y, ) = site2.pos\n",
      "    A, B = p.A, p.B\n",
      "    return (np.array([[-0.25*A(1.0 + x), 0.25*1.j*B(x)], [0.25*1.j*B(2.0 + x), 0]]))\n",
      "\n",
      "Function generated for (0, 0):\n",
      "def _anonymous_func(site, p):\n",
      "    (x, y, ) = site.pos\n",
      "    C = p.C\n",
      "    A = p.A\n",
      "    return (np.array([[0.5*A(x) + 0.25*A(-1.0 + x) + 0.25*A(1.0 + x), 0], [0, C]]))\n",
      "\n"
     ]
    }
   ],
   "source": [
    "tb = Discretizer(H, space_dependent, discrete_coordinates, function_arguments,\n",
    "                 lattice_constant=2.0, verbose=True)"
   ]
  },
  {
   "cell_type": "code",
   "execution_count": 6,
   "metadata": {
    "collapsed": false
   },
   "outputs": [
    {
     "data": {
      "text/latex": [
       "$$\\left[\\begin{matrix}k_{x} A{\\left (x \\right )} k_{x} + k_{y} A{\\left (x \\right )} k_{y} & k_{x} B{\\left (x \\right )}\\\\B{\\left (x \\right )} k_{x} & C\\end{matrix}\\right]$$"
      ],
      "text/plain": [
       "⎡kₓ⋅A(x)⋅kₓ + k_y⋅A(x)⋅k_y  kₓ⋅B(x)⎤\n",
       "⎢                                  ⎥\n",
       "⎣         B(x)⋅kₓ              C   ⎦"
      ]
     },
     "execution_count": 6,
     "metadata": {},
     "output_type": "execute_result"
    }
   ],
   "source": [
    "tb.input_hamiltonian"
   ]
  },
  {
   "cell_type": "code",
   "execution_count": 7,
   "metadata": {
    "collapsed": false
   },
   "outputs": [
    {
     "data": {
      "text/latex": [
       "$$\\left \\{ \\left ( 0, \\quad 0\\right ) : \\left[\\begin{matrix}\\frac{2}{a^{2}} A{\\left (x \\right )} + \\frac{1}{a^{2}} A{\\left (- \\frac{a}{2} + x \\right )} + \\frac{1}{a^{2}} A{\\left (\\frac{a}{2} + x \\right )} & 0\\\\0 & C\\end{matrix}\\right], \\quad \\left ( 0, \\quad 1\\right ) : \\left[\\begin{matrix}- \\frac{1}{a^{2}} A{\\left (x \\right )} & 0\\\\0 & 0\\end{matrix}\\right], \\quad \\left ( 1, \\quad 0\\right ) : \\left[\\begin{matrix}- \\frac{1}{a^{2}} A{\\left (\\frac{a}{2} + x \\right )} & \\frac{i}{2 a} B{\\left (x \\right )}\\\\\\frac{i}{2 a} B{\\left (a + x \\right )} & 0\\end{matrix}\\right]\\right \\}$$"
      ],
      "text/plain": [
       "⎧        ⎡          ⎛  a    ⎞    ⎛a    ⎞   ⎤                               ⎡  \n",
       "⎪        ⎢         A⎜- ─ + x⎟   A⎜─ + x⎟   ⎥                               ⎢-A\n",
       "⎪        ⎢2⋅A(x)    ⎝  2    ⎠    ⎝2    ⎠   ⎥          ⎡-A(x)    ⎤          ⎢  \n",
       "⎪(0, 0): ⎢────── + ────────── + ────────  0⎥, (0, 1): ⎢──────  0⎥, (1, 0): ⎢──\n",
       "⎪        ⎢   2          2           2      ⎥          ⎢   2     ⎥          ⎢  \n",
       "⎨        ⎢  a          a           a       ⎥          ⎢  a      ⎥          ⎢  \n",
       "⎪        ⎢                                 ⎥          ⎢         ⎥          ⎢  \n",
       "⎪        ⎣              0                 C⎦          ⎣  0     0⎦          ⎢ⅈ⋅\n",
       "⎪                                                                          ⎢──\n",
       "⎪                                                                          ⎣  \n",
       "⎩                                                                             \n",
       "\n",
       "⎛a    ⎞         ⎤⎫\n",
       "⎜─ + x⎟         ⎥⎪\n",
       "⎝2    ⎠   ⅈ⋅B(x)⎥⎪\n",
       "────────  ──────⎥⎪\n",
       "   2       2⋅a  ⎥⎪\n",
       "  a             ⎥⎬\n",
       "                ⎥⎪\n",
       "B(a + x)        ⎥⎪\n",
       "────────    0   ⎥⎪\n",
       " 2⋅a            ⎦⎪\n",
       "                 ⎭"
      ]
     },
     "execution_count": 7,
     "metadata": {},
     "output_type": "execute_result"
    }
   ],
   "source": [
    "tb.symbolic_hamiltonian"
   ]
  },
  {
   "cell_type": "code",
   "execution_count": 8,
   "metadata": {
    "collapsed": false
   },
   "outputs": [
    {
     "data": {
      "text/plain": [
       "kwant.lattice.Monatomic([[2.0, 0.0], [0.0, 2.0]], [0.0, 0.0], '')"
      ]
     },
     "execution_count": 8,
     "metadata": {},
     "output_type": "execute_result"
    }
   ],
   "source": [
    "tb.lattice"
   ]
  },
  {
   "cell_type": "code",
   "execution_count": 9,
   "metadata": {
    "collapsed": false
   },
   "outputs": [
    {
     "data": {
      "text/plain": [
       "(<function _anonymous_func>,\n",
       " {HoppingKind((1, 0), kwant.lattice.Monatomic([[2.0, 0.0], [0.0, 2.0]], [0.0, 0.0], '')): <function _anonymous_func>,\n",
       "  HoppingKind((0, 1), kwant.lattice.Monatomic([[2.0, 0.0], [0.0, 2.0]], [0.0, 0.0], '')): <function _anonymous_func>})"
      ]
     },
     "execution_count": 9,
     "metadata": {},
     "output_type": "execute_result"
    }
   ],
   "source": [
    "tb.onsite, tb.hoppings"
   ]
  }
 ],
 "metadata": {
  "kernelspec": {
   "display_name": "Python 3",
   "language": "python",
   "name": "python3"
  },
  "language_info": {
   "codemirror_mode": {
    "name": "ipython",
    "version": 3
   },
   "file_extension": ".py",
   "mimetype": "text/x-python",
   "name": "python",
   "nbconvert_exporter": "python",
   "pygments_lexer": "ipython3",
   "version": "3.5.1"
  }
 },
 "nbformat": 4,
 "nbformat_minor": 0
}
