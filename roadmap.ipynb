{
 "cells": [
  {
   "cell_type": "markdown",
   "metadata": {},
   "source": [
    "# Roadmap of module\n",
    "\n",
    "Maybe different name of this file?\n",
    "\n",
    "## Requirments\n",
    "\n",
    "discretize continues hamiltonian into tight binding one\n",
    "\n",
    "### must do\n",
    "* handle space dependent parameters mixed with differential operators\n",
    "* easy and nice input\n",
    "\n",
    "# Program input\n",
    "\n",
    "Hamiltonian provided by user is **supposed** to be **hermitian**. Check will be done in the beginning. \n",
    "Therefore providing $H = A(x) \\partial_x$ or $H = A(x) \\partial_x^2$ should throw out some kind of ValueError.\n",
    "\n",
    "Correct input should be symmetrized by user, for example $H = \\frac{1}{2} \\big(\\partial_x A(x) + A(x) \\partial_x \\big)$ or $H = k_x A(x) k_x$\n",
    "\n",
    "# Core algorithm\n",
    "\n",
    "## Input\n",
    "Easiest would bo to work internally on sympy matrices. Every element of matrix would be representent by expression build from mix of commutative and not commutative symbols, for example $\\hat{H} = k_x A(x) k_x$, where $A(x)$ could stand for $-\\frac{\\hbar^2}{2m(x)}$.\n",
    "\n",
    "More complete example could be:\n",
    "$$\n",
    "H = \n",
    "\\begin{pmatrix}\n",
    "k_x A(x) k_x & k_xP(x) \\\\\n",
    "P(x)k_x & k_x B(x) k_x\n",
    "\\end{pmatrix}\n",
    "$$\n",
    "\n",
    "We should also allow to specify which parameters are constants\n",
    "\n",
    "## Remarks (future improvements)\n",
    "* leave space to provide ``interpolate = False`` option for midpoints\n",
    "* leave space for keeping matrices as symbol up to the end\n",
    "\n",
    "## Things to decide\n",
    "* if function should work on real space coordinates or in lattice coordinates: ``f(x, y)`` or ``f(i, j)``\n",
    "* default behaviour at the edges of systems (ask Michael)\n",
    "\n",
    "# Things to do:\n",
    "* write down and code test examples\n",
    "* find good example of recursive algorithm\n",
    "* check how sympy stores expression, how to access last one from the right\n",
    "* check how Anton generate valid kwant functions\n",
    "\n",
    "# Magnetic field through vector potential\n",
    "This will go into separate module. Check issue 19.\n"
   ]
  },
  {
   "cell_type": "code",
   "execution_count": null,
   "metadata": {
    "collapsed": true
   },
   "outputs": [],
   "source": []
  }
 ],
 "metadata": {
  "kernelspec": {
   "display_name": "Python 3",
   "language": "python3",
   "name": "python3"
  },
  "language_info": {
   "codemirror_mode": {
    "name": "ipython",
    "version": 3
   },
   "file_extension": ".py",
   "mimetype": "text/x-python",
   "name": "python",
   "nbconvert_exporter": "python",
   "pygments_lexer": "ipython3",
   "version": "3.4.3"
  }
 },
 "nbformat": 4,
 "nbformat_minor": 0
}
