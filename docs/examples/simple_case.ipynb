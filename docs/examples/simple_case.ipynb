{
 "cells": [
  {
   "cell_type": "markdown",
   "metadata": {},
   "source": [
    "# Very simple example"
   ]
  },
  {
   "cell_type": "markdown",
   "metadata": {},
   "source": [
    "## Imports"
   ]
  },
  {
   "cell_type": "code",
   "execution_count": 1,
   "metadata": {
    "collapsed": true
   },
   "outputs": [],
   "source": [
    "import os\n",
    "import sys\n",
    "\n",
    "cwd = os.getcwd().split('/')\n",
    "sys.path.append(os.path.join('/', *cwd[:cwd.index('discretizer')+1]))"
   ]
  },
  {
   "cell_type": "code",
   "execution_count": 2,
   "metadata": {
    "collapsed": true
   },
   "outputs": [],
   "source": [
    "import sympy\n",
    "from sympy.interactive import printing\n",
    "printing.init_printing(use_latex='mathjax')\n",
    "\n",
    "import discretizer\n",
    "from discretizer import discretize"
   ]
  },
  {
   "cell_type": "code",
   "execution_count": 5,
   "metadata": {
    "collapsed": false
   },
   "outputs": [],
   "source": [
    "from discretizer.algorithms import make_tb_system"
   ]
  },
  {
   "cell_type": "markdown",
   "metadata": {},
   "source": [
    "# Test"
   ]
  },
  {
   "cell_type": "code",
   "execution_count": 6,
   "metadata": {
    "collapsed": false
   },
   "outputs": [
    {
     "data": {
      "text/latex": [
       "$$k_{x} A k_{x}$$"
      ],
      "text/plain": [
       "kₓ⋅A⋅kₓ"
      ]
     },
     "execution_count": 6,
     "metadata": {},
     "output_type": "execute_result"
    }
   ],
   "source": [
    "kx, ky, kz = discretizer.momentum_operators\n",
    "x, y, z = discretizer.coordinates\n",
    "\n",
    "A, B, C = sympy.symbols('A B C', commutative=False)\n",
    "H = kx*A*kx; H"
   ]
  },
  {
   "cell_type": "code",
   "execution_count": 8,
   "metadata": {
    "collapsed": false
   },
   "outputs": [
    {
     "name": "stdout",
     "output_type": "stream",
     "text": [
      "Discrete coordinates set to:  ['x']\n",
      "\n"
     ]
    },
    {
     "data": {
      "text/latex": [
       "$$\\left ( \\frac{1}{a^{2}} A{\\left (- \\frac{a}{2} + x \\right )} + \\frac{1}{a^{2}} A{\\left (\\frac{a}{2} + x \\right )}, \\quad \\left \\{ \\left ( 1\\right ) : - \\frac{1}{a^{2}} A{\\left (\\frac{a}{2} + x \\right )}\\right \\}\\right )$$"
      ],
      "text/plain": [
       "⎛ ⎛  a    ⎞    ⎛a    ⎞  ⎧        ⎛a    ⎞ ⎫⎞\n",
       "⎜A⎜- ─ + x⎟   A⎜─ + x⎟  ⎪      -A⎜─ + x⎟ ⎪⎟\n",
       "⎜ ⎝  2    ⎠    ⎝2    ⎠  ⎪        ⎝2    ⎠ ⎪⎟\n",
       "⎜────────── + ────────, ⎨(1,): ──────────⎬⎟\n",
       "⎜     2           2     ⎪           2    ⎪⎟\n",
       "⎜    a           a      ⎪          a     ⎪⎟\n",
       "⎝                       ⎩                ⎭⎠"
      ]
     },
     "execution_count": 8,
     "metadata": {},
     "output_type": "execute_result"
    }
   ],
   "source": [
    "symb = make_tb_system(H, space_dependent={'A'}, verbose=True, symbolic_output=True)\n",
    "symb"
   ]
  },
  {
   "cell_type": "code",
   "execution_count": null,
   "metadata": {
    "collapsed": false
   },
   "outputs": [],
   "source": [
    "magic(H, space_dependent={'A'}, verbose=True);"
   ]
  },
  {
   "cell_type": "markdown",
   "metadata": {},
   "source": [
    "# Interpolation"
   ]
  },
  {
   "cell_type": "code",
   "execution_count": null,
   "metadata": {
    "collapsed": true
   },
   "outputs": [],
   "source": [
    "interp = {}\n",
    "for key, val in symb.items():\n",
    "    interp[key] = interpolate(val)"
   ]
  },
  {
   "cell_type": "code",
   "execution_count": null,
   "metadata": {
    "collapsed": false
   },
   "outputs": [],
   "source": [
    "interp"
   ]
  }
 ],
 "metadata": {
  "kernelspec": {
   "display_name": "Python 3",
   "language": "python3",
   "name": "python3"
  },
  "language_info": {
   "codemirror_mode": {
    "name": "ipython",
    "version": 3
   },
   "file_extension": ".py",
   "mimetype": "text/x-python",
   "name": "python",
   "nbconvert_exporter": "python",
   "pygments_lexer": "ipython3",
   "version": "3.4.3"
  }
 },
 "nbformat": 4,
 "nbformat_minor": 0
}
