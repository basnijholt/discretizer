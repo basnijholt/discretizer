{
 "cells": [
  {
   "cell_type": "markdown",
   "metadata": {},
   "source": [
    "# Very simple example"
   ]
  },
  {
   "cell_type": "markdown",
   "metadata": {},
   "source": [
    "## Imports"
   ]
  },
  {
   "cell_type": "code",
   "execution_count": 1,
   "metadata": {
    "collapsed": true
   },
   "outputs": [],
   "source": [
    "import os\n",
    "import sys\n",
    "\n",
    "cwd = os.getcwd().split('/')\n",
    "sys.path.append(os.path.join('/', *cwd[:cwd.index('discretizer')+1]))"
   ]
  },
  {
   "cell_type": "code",
   "execution_count": 2,
   "metadata": {
    "collapsed": true
   },
   "outputs": [],
   "source": [
    "import sympy\n",
    "from sympy.interactive import printing\n",
    "printing.init_printing(use_latex='mathjax')\n",
    "\n",
    "import discretizer\n",
    "from discretizer import discretize"
   ]
  },
  {
   "cell_type": "code",
   "execution_count": 3,
   "metadata": {
    "collapsed": true
   },
   "outputs": [],
   "source": [
    "from discretizer.algorithms import magic\n",
    "from discretizer.interpolation import interpolate"
   ]
  },
  {
   "cell_type": "markdown",
   "metadata": {},
   "source": [
    "# Test"
   ]
  },
  {
   "cell_type": "code",
   "execution_count": 4,
   "metadata": {
    "collapsed": false
   },
   "outputs": [
    {
     "data": {
      "text/latex": [
       "$$k_{x} A k_{x}$$"
      ],
      "text/plain": [
       "kₓ⋅A⋅kₓ"
      ]
     },
     "execution_count": 4,
     "metadata": {},
     "output_type": "execute_result"
    }
   ],
   "source": [
    "kx, ky, kz = discretizer.momentum_operators\n",
    "x, y, z = discretizer.coordinates\n",
    "\n",
    "A, B, C = sympy.symbols('A B C', commutative=False)\n",
    "H = kx*A*kx; H"
   ]
  },
  {
   "cell_type": "code",
   "execution_count": 7,
   "metadata": {
    "collapsed": false
   },
   "outputs": [
    {
     "name": "stdout",
     "output_type": "stream",
     "text": [
      "Discrete coordinates set to:  ['x']\n",
      "\n"
     ]
    },
    {
     "data": {
      "text/latex": [
       "$$\\left \\{ \\left ( -1\\right ) : - \\frac{1}{a^{2}} A{\\left (- \\frac{a}{2} + x \\right )}, \\quad \\left ( 0\\right ) : \\frac{1}{a^{2}} A{\\left (- \\frac{a}{2} + x \\right )} + \\frac{1}{a^{2}} A{\\left (\\frac{a}{2} + x \\right )}, \\quad \\left ( 1\\right ) : - \\frac{1}{a^{2}} A{\\left (\\frac{a}{2} + x \\right )}\\right \\}$$"
      ],
      "text/plain": [
       "⎧         ⎛  a    ⎞          ⎛  a    ⎞    ⎛a    ⎞          ⎛a    ⎞ ⎫\n",
       "⎪       -A⎜- ─ + x⎟         A⎜- ─ + x⎟   A⎜─ + x⎟        -A⎜─ + x⎟ ⎪\n",
       "⎪         ⎝  2    ⎠          ⎝  2    ⎠    ⎝2    ⎠          ⎝2    ⎠ ⎪\n",
       "⎨(-1,): ────────────, (0,): ────────── + ────────, (1,): ──────────⎬\n",
       "⎪             2                  2           2                2    ⎪\n",
       "⎪            a                  a           a                a     ⎪\n",
       "⎩                                                                  ⎭"
      ]
     },
     "execution_count": 7,
     "metadata": {},
     "output_type": "execute_result"
    }
   ],
   "source": [
    "symb = magic(H, space_dependent={'A'}, verbose=True, symbolic_output=True)\n",
    "symb"
   ]
  },
  {
   "cell_type": "code",
   "execution_count": 9,
   "metadata": {
    "collapsed": false
   },
   "outputs": [
    {
     "name": "stdout",
     "output_type": "stream",
     "text": [
      "Discrete coordinates set to:  ['x']\n",
      "\n",
      "Function generated for (0,):\n",
      "def _anonymous_func(site, p):\n",
      "    x = site.pos\n",
      "    a = p.a\n",
      "    A = p.A\n",
      "    return (A(-a/2 + x)/a**2 + A(a/2 + x)/a**2)\n",
      "\n",
      "Function generated for (-1,):\n",
      "def _anonymous_func(site1, site2, p):\n",
      "    x = site2.pos\n",
      "    a = p.a\n",
      "    A = p.A\n",
      "    return (-A(-a/2 + x)/a**2)\n",
      "\n",
      "Function generated for (1,):\n",
      "def _anonymous_func(site1, site2, p):\n",
      "    x = site2.pos\n",
      "    a = p.a\n",
      "    A = p.A\n",
      "    return (-A(a/2 + x)/a**2)\n",
      "\n"
     ]
    }
   ],
   "source": [
    "magic(H, space_dependent={'A'}, verbose=True);"
   ]
  },
  {
   "cell_type": "markdown",
   "metadata": {},
   "source": [
    "# Interpolation"
   ]
  },
  {
   "cell_type": "code",
   "execution_count": 13,
   "metadata": {
    "collapsed": true
   },
   "outputs": [],
   "source": [
    "interp = {}\n",
    "for key, val in symb.items():\n",
    "    interp[key] = interpolate(val)"
   ]
  },
  {
   "cell_type": "code",
   "execution_count": 14,
   "metadata": {
    "collapsed": false
   },
   "outputs": [
    {
     "data": {
      "text/latex": [
       "$$\\left \\{ \\left ( -1\\right ) : - \\frac{A{\\left (x \\right )}}{2 a^{2}} - \\frac{1}{2 a^{2}} A{\\left (- a + x \\right )}, \\quad \\left ( 0\\right ) : \\frac{1}{a^{2}} A{\\left (x \\right )} + \\frac{1}{2 a^{2}} A{\\left (- a + x \\right )} + \\frac{1}{2 a^{2}} A{\\left (a + x \\right )}, \\quad \\left ( 1\\right ) : - \\frac{A{\\left (x \\right )}}{2 a^{2}} - \\frac{1}{2 a^{2}} A{\\left (a + x \\right )}\\right \\}$$"
      ],
      "text/plain": [
       "⎧         A(x)   A(-a + x)        A(x)   A(-a + x)   A(a + x)          A(x)   \n",
       "⎪(-1,): - ──── - ─────────, (0,): ──── + ───────── + ────────, (1,): - ──── - \n",
       "⎨            2         2            2          2          2               2   \n",
       "⎪         2⋅a       2⋅a            a        2⋅a        2⋅a             2⋅a    \n",
       "⎩                                                                             \n",
       "\n",
       "A(a + x)⎫\n",
       "────────⎪\n",
       "     2  ⎬\n",
       "  2⋅a   ⎪\n",
       "        ⎭"
      ]
     },
     "execution_count": 14,
     "metadata": {},
     "output_type": "execute_result"
    }
   ],
   "source": [
    "interp"
   ]
  }
 ],
 "metadata": {
  "kernelspec": {
   "display_name": "Python 3",
   "language": "python",
   "name": "python3"
  },
  "language_info": {
   "codemirror_mode": {
    "name": "ipython",
    "version": 3
   },
   "file_extension": ".py",
   "mimetype": "text/x-python",
   "name": "python",
   "nbconvert_exporter": "python",
   "pygments_lexer": "ipython3",
   "version": "3.4.3"
  }
 },
 "nbformat": 4,
 "nbformat_minor": 0
}
