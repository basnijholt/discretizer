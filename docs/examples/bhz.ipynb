{
 "cells": [
  {
   "cell_type": "code",
   "execution_count": 1,
   "metadata": {
    "collapsed": false
   },
   "outputs": [],
   "source": [
    "import os\n",
    "import sys\n",
    "\n",
    "cwd = os.getcwd().split('/')\n",
    "sys.path.append(os.path.join('/', *cwd[:cwd.index('discretizer')+1]))"
   ]
  },
  {
   "cell_type": "code",
   "execution_count": 2,
   "metadata": {
    "collapsed": true
   },
   "outputs": [],
   "source": [
    "from discretizer import momentum_operators\n",
    "from discretizer.algorithms import magic\n",
    "\n",
    "import sympy\n",
    "import sympy.physics\n",
    "from sympy.physics.quantum import TensorProduct as kr"
   ]
  },
  {
   "cell_type": "code",
   "execution_count": 3,
   "metadata": {
    "collapsed": true
   },
   "outputs": [],
   "source": [
    "sympy.init_printing(use_latex='mathjax')"
   ]
  },
  {
   "cell_type": "code",
   "execution_count": 4,
   "metadata": {
    "collapsed": false
   },
   "outputs": [],
   "source": [
    "s0 = sympy.eye(2)\n",
    "sx = sympy.physics.matrices.msigma(1)\n",
    "sy = sympy.physics.matrices.msigma(2)\n",
    "sz = sympy.physics.matrices.msigma(3)\n",
    "\n",
    "kx, ky, kz = momentum_operators\n",
    "A, B, D, M, C = sympy.symbols('A B D M C', real=True)\n"
   ]
  },
  {
   "cell_type": "code",
   "execution_count": 5,
   "metadata": {
    "collapsed": false
   },
   "outputs": [
    {
     "data": {
      "text/latex": [
       "$$\\left[\\begin{matrix}- B \\left(k_{x}^{2} + k_{y}^{2}\\right) + C - D \\left(k_{x}^{2} + k_{y}^{2}\\right) + M & A \\left(k_{x} + i k_{y}\\right) & 0 & 0\\\\A \\left(k_{x} - i k_{y}\\right) & B \\left(k_{x}^{2} + k_{y}^{2}\\right) + C - D \\left(k_{x}^{2} + k_{y}^{2}\\right) - M & 0 & 0\\\\0 & 0 & - B \\left(k_{x}^{2} + k_{y}^{2}\\right) + C - D \\left(k_{x}^{2} + k_{y}^{2}\\right) + M & A \\left(- k_{x} + i k_{y}\\right)\\\\0 & 0 & A \\left(- k_{x} - i k_{y}\\right) & B \\left(k_{x}^{2} + k_{y}^{2}\\right) + C - D \\left(k_{x}^{2} + k_{y}^{2}\\right) - M\\end{matrix}\\right]$$"
      ],
      "text/plain": [
       "⎡    ⎛  2      2⎞         ⎛  2      2⎞                                        \n",
       "⎢- B⋅⎝kₓ  + k_y ⎠ + C - D⋅⎝kₓ  + k_y ⎠ + M              A⋅(kₓ + ⅈ⋅k_y)        \n",
       "⎢                                                                             \n",
       "⎢                                             ⎛  2      2⎞         ⎛  2      2\n",
       "⎢             A⋅(kₓ - ⅈ⋅k_y)                B⋅⎝kₓ  + k_y ⎠ + C - D⋅⎝kₓ  + k_y \n",
       "⎢                                                                             \n",
       "⎢                                                                             \n",
       "⎢                    0                                         0              \n",
       "⎢                                                                             \n",
       "⎢                                                                             \n",
       "⎣                    0                                         0              \n",
       "\n",
       "                                                                              \n",
       "                           0                                         0        \n",
       "                                                                              \n",
       "⎞                                                                             \n",
       "⎠ - M                      0                                         0        \n",
       "                                                                              \n",
       "           ⎛  2      2⎞         ⎛  2      2⎞                                  \n",
       "       - B⋅⎝kₓ  + k_y ⎠ + C - D⋅⎝kₓ  + k_y ⎠ + M              A⋅(-kₓ + ⅈ⋅k_y) \n",
       "                                                                              \n",
       "                                                    ⎛  2      2⎞         ⎛  2 \n",
       "                    A⋅(-kₓ - ⅈ⋅k_y)               B⋅⎝kₓ  + k_y ⎠ + C - D⋅⎝kₓ  \n",
       "\n",
       "           ⎤\n",
       "           ⎥\n",
       "           ⎥\n",
       "           ⎥\n",
       "           ⎥\n",
       "           ⎥\n",
       "           ⎥\n",
       "           ⎥\n",
       "           ⎥\n",
       "     2⎞    ⎥\n",
       "+ k_y ⎠ - M⎦"
      ]
     },
     "execution_count": 5,
     "metadata": {},
     "output_type": "execute_result"
    }
   ],
   "source": [
    "k = sympy.sqrt(kx**2+ky**2)\n",
    "hamiltonian = (+ C * kr(s0, s0) + M * kr(s0, sz) - D * k**2 * kr(s0, s0) \n",
    "               - B * k**2 * kr(s0, sz) + A * (kx * kr(sz, sx) - ky * kr(s0, sy)))\n",
    "\n",
    "hamiltonian"
   ]
  },
  {
   "cell_type": "code",
   "execution_count": 6,
   "metadata": {
    "collapsed": true
   },
   "outputs": [],
   "source": [
    "from discretizer.algorithms import substitute_functions\n",
    "from discretizer.algorithms import discretize"
   ]
  },
  {
   "cell_type": "code",
   "execution_count": 9,
   "metadata": {
    "collapsed": true
   },
   "outputs": [],
   "source": [
    "def magic(hamiltonian, space_dependent=None, discrete_coordinates=None,\n",
    "          verbose=False, symbolic_output=False):\n",
    "\n",
    "    tmp = substitute_functions(hamiltonian, discrete_coordinates, space_dependent)\n",
    "    hamiltonian, discrete_coordinates = tmp\n",
    "\n",
    "    if verbose:\n",
    "        print('Discrete coordinates set to: ', sorted(discrete_coordinates))\n",
    "\n",
    "    discrete_hamiltonian = discretize(hamiltonian, discrete_coordinates)\n",
    "\n",
    "    if symbolic_output:\n",
    "        return discrete_hamiltonian\n",
    "\n",
    "    tb = make_kwant_functions(discrete_hamiltonian, discrete_coordinates, verbose)\n",
    "    return tb"
   ]
  },
  {
   "cell_type": "code",
   "execution_count": 10,
   "metadata": {
    "collapsed": false
   },
   "outputs": [
    {
     "name": "stdout",
     "output_type": "stream",
     "text": [
      "Discrete coordinates set to:  ['x', 'y']\n",
      "[C*Psi(x, y), M*Psi(x, y), -B*Psi(x, y)/(2*a_x**2) + B*Psi(-2*a_x + x, y)/(4*a_x**2) + B*Psi(2*a_x + x, y)/(4*a_x**2), -B*Psi(x, y)/(2*a_y**2) + B*Psi(x, -2*a_y + y)/(4*a_y**2) + B*Psi(x, 2*a_y + y)/(4*a_y**2), -D*Psi(x, y)/(2*a_x**2) + D*Psi(-2*a_x + x, y)/(4*a_x**2) + D*Psi(2*a_x + x, y)/(4*a_x**2), -D*Psi(x, y)/(2*a_y**2) + D*Psi(x, -2*a_y + y)/(4*a_y**2) + D*Psi(x, 2*a_y + y)/(4*a_y**2)]\n",
      "[I*A(x, y)*Psi(-a_x + x, y)/(2*a_x) - I*A(x, y)*Psi(a_x + x, y)/(2*a_x), -A(x, y)*Psi(x, -a_y + y)/(2*a_y) + A(x, y)*Psi(x, a_y + y)/(2*a_y)]\n",
      "[0]\n"
     ]
    },
    {
     "ename": "UnboundLocalError",
     "evalue": "local variable 'index' referenced before assignment",
     "output_type": "error",
     "traceback": [
      "\u001b[1;31m---------------------------------------------------------------------------\u001b[0m",
      "\u001b[1;31mUnboundLocalError\u001b[0m                         Traceback (most recent call last)",
      "\u001b[1;32m<ipython-input-10-222fc4da5569>\u001b[0m in \u001b[0;36m<module>\u001b[1;34m()\u001b[0m\n\u001b[1;32m----> 1\u001b[1;33m \u001b[0mmagic\u001b[0m\u001b[1;33m(\u001b[0m\u001b[0mhamiltonian\u001b[0m\u001b[1;33m,\u001b[0m \u001b[0mspace_dependent\u001b[0m\u001b[1;33m=\u001b[0m\u001b[1;33m[\u001b[0m\u001b[0mA\u001b[0m\u001b[1;33m]\u001b[0m\u001b[1;33m,\u001b[0m \u001b[0mverbose\u001b[0m\u001b[1;33m=\u001b[0m\u001b[1;32mTrue\u001b[0m\u001b[1;33m,\u001b[0m \u001b[0msymbolic_output\u001b[0m\u001b[1;33m=\u001b[0m\u001b[1;32mTrue\u001b[0m\u001b[1;33m)\u001b[0m\u001b[1;33m\u001b[0m\u001b[0m\n\u001b[0m",
      "\u001b[1;32m<ipython-input-9-1a8b2419f0ce>\u001b[0m in \u001b[0;36mmagic\u001b[1;34m(hamiltonian, space_dependent, discrete_coordinates, verbose, symbolic_output)\u001b[0m\n\u001b[0;32m      8\u001b[0m         \u001b[0mprint\u001b[0m\u001b[1;33m(\u001b[0m\u001b[1;34m'Discrete coordinates set to: '\u001b[0m\u001b[1;33m,\u001b[0m \u001b[0msorted\u001b[0m\u001b[1;33m(\u001b[0m\u001b[0mdiscrete_coordinates\u001b[0m\u001b[1;33m)\u001b[0m\u001b[1;33m)\u001b[0m\u001b[1;33m\u001b[0m\u001b[0m\n\u001b[0;32m      9\u001b[0m \u001b[1;33m\u001b[0m\u001b[0m\n\u001b[1;32m---> 10\u001b[1;33m     \u001b[0mdiscrete_hamiltonian\u001b[0m \u001b[1;33m=\u001b[0m \u001b[0mdiscretize\u001b[0m\u001b[1;33m(\u001b[0m\u001b[0mhamiltonian\u001b[0m\u001b[1;33m,\u001b[0m \u001b[0mdiscrete_coordinates\u001b[0m\u001b[1;33m)\u001b[0m\u001b[1;33m\u001b[0m\u001b[0m\n\u001b[0m\u001b[0;32m     11\u001b[0m \u001b[1;33m\u001b[0m\u001b[0m\n\u001b[0;32m     12\u001b[0m     \u001b[1;32mif\u001b[0m \u001b[0msymbolic_output\u001b[0m\u001b[1;33m:\u001b[0m\u001b[1;33m\u001b[0m\u001b[0m\n",
      "\u001b[1;32m/home/raphael/discretizer/discretizer/algorithms.py\u001b[0m in \u001b[0;36mdiscretize\u001b[1;34m(hamiltonian, discrete_coordinates)\u001b[0m\n\u001b[0;32m    312\u001b[0m     \u001b[1;32mfor\u001b[0m \u001b[0mi\u001b[0m\u001b[1;33m,\u001b[0m\u001b[0mj\u001b[0m \u001b[1;32min\u001b[0m \u001b[0mitertools\u001b[0m\u001b[1;33m.\u001b[0m\u001b[0mproduct\u001b[0m\u001b[1;33m(\u001b[0m\u001b[0mrange\u001b[0m\u001b[1;33m(\u001b[0m\u001b[0mshape\u001b[0m\u001b[1;33m[\u001b[0m\u001b[1;36m0\u001b[0m\u001b[1;33m]\u001b[0m\u001b[1;33m)\u001b[0m\u001b[1;33m,\u001b[0m \u001b[0mrepeat\u001b[0m\u001b[1;33m=\u001b[0m\u001b[1;36m2\u001b[0m\u001b[1;33m)\u001b[0m\u001b[1;33m:\u001b[0m\u001b[1;33m\u001b[0m\u001b[0m\n\u001b[0;32m    313\u001b[0m         \u001b[0mexpression\u001b[0m \u001b[1;33m=\u001b[0m \u001b[0mhamiltonian\u001b[0m\u001b[1;33m[\u001b[0m\u001b[0mi\u001b[0m\u001b[1;33m,\u001b[0m \u001b[0mj\u001b[0m\u001b[1;33m]\u001b[0m\u001b[1;33m\u001b[0m\u001b[0m\n\u001b[1;32m--> 314\u001b[1;33m         \u001b[0mhoppings\u001b[0m \u001b[1;33m=\u001b[0m \u001b[0m_discretize_expression\u001b[0m\u001b[1;33m(\u001b[0m\u001b[0mexpression\u001b[0m\u001b[1;33m,\u001b[0m \u001b[0mdiscrete_coordinates\u001b[0m\u001b[1;33m)\u001b[0m\u001b[1;33m\u001b[0m\u001b[0m\n\u001b[0m\u001b[0;32m    315\u001b[0m \u001b[1;33m\u001b[0m\u001b[0m\n\u001b[0;32m    316\u001b[0m         \u001b[1;32mfor\u001b[0m \u001b[0moffset\u001b[0m\u001b[1;33m,\u001b[0m \u001b[0mhop\u001b[0m \u001b[1;32min\u001b[0m \u001b[0mhoppings\u001b[0m\u001b[1;33m.\u001b[0m\u001b[0mitems\u001b[0m\u001b[1;33m(\u001b[0m\u001b[1;33m)\u001b[0m\u001b[1;33m:\u001b[0m\u001b[1;33m\u001b[0m\u001b[0m\n",
      "\u001b[1;32m/home/raphael/discretizer/discretizer/algorithms.py\u001b[0m in \u001b[0;36m_discretize_expression\u001b[1;34m(expression, discrete_coordinates)\u001b[0m\n\u001b[0;32m    274\u001b[0m \u001b[1;33m\u001b[0m\u001b[0m\n\u001b[0;32m    275\u001b[0m     \u001b[0mprint\u001b[0m\u001b[1;33m(\u001b[0m\u001b[0moutputs\u001b[0m\u001b[1;33m)\u001b[0m\u001b[1;33m\u001b[0m\u001b[0m\n\u001b[1;32m--> 276\u001b[1;33m     \u001b[0moutputs\u001b[0m \u001b[1;33m=\u001b[0m \u001b[1;33m[\u001b[0m\u001b[0mextract_hoppings\u001b[0m\u001b[1;33m(\u001b[0m\u001b[0msummand\u001b[0m\u001b[1;33m)\u001b[0m \u001b[1;32mfor\u001b[0m \u001b[0msummand\u001b[0m \u001b[1;32min\u001b[0m \u001b[0moutputs\u001b[0m\u001b[1;33m]\u001b[0m\u001b[1;33m\u001b[0m\u001b[0m\n\u001b[0m\u001b[0;32m    277\u001b[0m     \u001b[0moutputs\u001b[0m \u001b[1;33m=\u001b[0m \u001b[1;33m[\u001b[0m\u001b[0mshortening\u001b[0m\u001b[1;33m(\u001b[0m\u001b[0msummand\u001b[0m\u001b[1;33m,\u001b[0m \u001b[0mdiscrete_coordinates\u001b[0m\u001b[1;33m)\u001b[0m \u001b[1;32mfor\u001b[0m \u001b[0msummand\u001b[0m \u001b[1;32min\u001b[0m \u001b[0moutputs\u001b[0m\u001b[1;33m]\u001b[0m\u001b[1;33m\u001b[0m\u001b[0m\n\u001b[0;32m    278\u001b[0m \u001b[1;33m\u001b[0m\u001b[0m\n",
      "\u001b[1;32m/home/raphael/discretizer/discretizer/algorithms.py\u001b[0m in \u001b[0;36m<listcomp>\u001b[1;34m(.0)\u001b[0m\n\u001b[0;32m    274\u001b[0m \u001b[1;33m\u001b[0m\u001b[0m\n\u001b[0;32m    275\u001b[0m     \u001b[0mprint\u001b[0m\u001b[1;33m(\u001b[0m\u001b[0moutputs\u001b[0m\u001b[1;33m)\u001b[0m\u001b[1;33m\u001b[0m\u001b[0m\n\u001b[1;32m--> 276\u001b[1;33m     \u001b[0moutputs\u001b[0m \u001b[1;33m=\u001b[0m \u001b[1;33m[\u001b[0m\u001b[0mextract_hoppings\u001b[0m\u001b[1;33m(\u001b[0m\u001b[0msummand\u001b[0m\u001b[1;33m)\u001b[0m \u001b[1;32mfor\u001b[0m \u001b[0msummand\u001b[0m \u001b[1;32min\u001b[0m \u001b[0moutputs\u001b[0m\u001b[1;33m]\u001b[0m\u001b[1;33m\u001b[0m\u001b[0m\n\u001b[0m\u001b[0;32m    277\u001b[0m     \u001b[0moutputs\u001b[0m \u001b[1;33m=\u001b[0m \u001b[1;33m[\u001b[0m\u001b[0mshortening\u001b[0m\u001b[1;33m(\u001b[0m\u001b[0msummand\u001b[0m\u001b[1;33m,\u001b[0m \u001b[0mdiscrete_coordinates\u001b[0m\u001b[1;33m)\u001b[0m \u001b[1;32mfor\u001b[0m \u001b[0msummand\u001b[0m \u001b[1;32min\u001b[0m \u001b[0moutputs\u001b[0m\u001b[1;33m]\u001b[0m\u001b[1;33m\u001b[0m\u001b[0m\n\u001b[0;32m    278\u001b[0m \u001b[1;33m\u001b[0m\u001b[0m\n",
      "\u001b[1;32m/home/raphael/discretizer/discretizer/algorithms.py\u001b[0m in \u001b[0;36mextract_hoppings\u001b[1;34m(expr)\u001b[0m\n\u001b[0;32m    555\u001b[0m                 \u001b[1;32mif\u001b[0m \u001b[0mexpr\u001b[0m\u001b[1;33m.\u001b[0m\u001b[0margs\u001b[0m\u001b[1;33m[\u001b[0m\u001b[0mi\u001b[0m\u001b[1;33m]\u001b[0m\u001b[1;33m.\u001b[0m\u001b[0mfunc\u001b[0m\u001b[1;33m.\u001b[0m\u001b[0m__name__\u001b[0m \u001b[1;33m==\u001b[0m \u001b[0mwavefunction_name\u001b[0m\u001b[1;33m:\u001b[0m\u001b[1;33m\u001b[0m\u001b[0m\n\u001b[0;32m    556\u001b[0m                     \u001b[0mindex\u001b[0m \u001b[1;33m=\u001b[0m \u001b[0mi\u001b[0m\u001b[1;33m\u001b[0m\u001b[0m\n\u001b[1;32m--> 557\u001b[1;33m             \u001b[1;32mif\u001b[0m \u001b[0mindex\u001b[0m \u001b[1;33m<\u001b[0m \u001b[0mlen\u001b[0m\u001b[1;33m(\u001b[0m\u001b[0mexpr\u001b[0m\u001b[1;33m.\u001b[0m\u001b[0margs\u001b[0m\u001b[1;33m)\u001b[0m \u001b[1;33m-\u001b[0m \u001b[1;36m1\u001b[0m\u001b[1;33m:\u001b[0m\u001b[1;33m\u001b[0m\u001b[0m\n\u001b[0m\u001b[0;32m    558\u001b[0m                 \u001b[0mprint\u001b[0m\u001b[1;33m(\u001b[0m\u001b[1;34m'Psi is not in the very end of the term. Output will be wrong!'\u001b[0m\u001b[1;33m)\u001b[0m\u001b[1;33m\u001b[0m\u001b[0m\n\u001b[0;32m    559\u001b[0m \u001b[1;33m\u001b[0m\u001b[0m\n",
      "\u001b[1;31mUnboundLocalError\u001b[0m: local variable 'index' referenced before assignment"
     ]
    }
   ],
   "source": [
    "magic(hamiltonian, space_dependent=[A], verbose=True, symbolic_output=True)"
   ]
  },
  {
   "cell_type": "code",
   "execution_count": null,
   "metadata": {
    "collapsed": true
   },
   "outputs": [],
   "source": []
  }
 ],
 "metadata": {
  "kernelspec": {
   "display_name": "Python 3",
   "language": "python",
   "name": "python3"
  },
  "language_info": {
   "codemirror_mode": {
    "name": "ipython",
    "version": 3
   },
   "file_extension": ".py",
   "mimetype": "text/x-python",
   "name": "python",
   "nbconvert_exporter": "python",
   "pygments_lexer": "ipython3",
   "version": "3.4.3"
  }
 },
 "nbformat": 4,
 "nbformat_minor": 0
}
