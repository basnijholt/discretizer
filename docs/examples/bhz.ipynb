{
 "cells": [
  {
   "cell_type": "code",
   "execution_count": 1,
   "metadata": {
    "collapsed": false
   },
   "outputs": [],
   "source": [
    "import os\n",
    "import sys\n",
    "\n",
    "cwd = os.getcwd().split('/')\n",
    "sys.path.append(os.path.join('/', *cwd[:cwd.index('discretizer')+1]))"
   ]
  },
  {
   "cell_type": "code",
   "execution_count": 2,
   "metadata": {
    "collapsed": true
   },
   "outputs": [],
   "source": [
    "from discretizer import momentum_operators\n",
    "from discretizer.algorithms import magic\n",
    "\n",
    "import sympy\n",
    "import sympy.physics\n",
    "from sympy.physics.quantum import TensorProduct as kr"
   ]
  },
  {
   "cell_type": "code",
   "execution_count": 3,
   "metadata": {
    "collapsed": true
   },
   "outputs": [],
   "source": [
    "sympy.init_printing(use_latex='mathjax')"
   ]
  },
  {
   "cell_type": "code",
   "execution_count": 4,
   "metadata": {
    "collapsed": false
   },
   "outputs": [],
   "source": [
    "s0 = sympy.eye(2)\n",
    "sx = sympy.physics.matrices.msigma(1)\n",
    "sy = sympy.physics.matrices.msigma(2)\n",
    "sz = sympy.physics.matrices.msigma(3)\n",
    "\n",
    "kx, ky, kz = momentum_operators\n",
    "A, B, D, M, C = sympy.symbols('A B D M C', real=True)\n"
   ]
  },
  {
   "cell_type": "code",
   "execution_count": 5,
   "metadata": {
    "collapsed": false
   },
   "outputs": [
    {
     "data": {
      "text/latex": [
       "$$\\left[\\begin{matrix}- B \\left(k_{x}^{2} + k_{y}^{2}\\right) + C - D \\left(k_{x}^{2} + k_{y}^{2}\\right) + M & A \\left(k_{x} + i k_{y}\\right) & 0 & 0\\\\A \\left(k_{x} - i k_{y}\\right) & B \\left(k_{x}^{2} + k_{y}^{2}\\right) + C - D \\left(k_{x}^{2} + k_{y}^{2}\\right) - M & 0 & 0\\\\0 & 0 & - B \\left(k_{x}^{2} + k_{y}^{2}\\right) + C - D \\left(k_{x}^{2} + k_{y}^{2}\\right) + M & A \\left(- k_{x} + i k_{y}\\right)\\\\0 & 0 & A \\left(- k_{x} - i k_{y}\\right) & B \\left(k_{x}^{2} + k_{y}^{2}\\right) + C - D \\left(k_{x}^{2} + k_{y}^{2}\\right) - M\\end{matrix}\\right]$$"
      ],
      "text/plain": [
       "⎡    ⎛  2      2⎞         ⎛  2      2⎞                                        \n",
       "⎢- B⋅⎝kₓ  + k_y ⎠ + C - D⋅⎝kₓ  + k_y ⎠ + M              A⋅(kₓ + ⅈ⋅k_y)        \n",
       "⎢                                                                             \n",
       "⎢                                             ⎛  2      2⎞         ⎛  2      2\n",
       "⎢             A⋅(kₓ - ⅈ⋅k_y)                B⋅⎝kₓ  + k_y ⎠ + C - D⋅⎝kₓ  + k_y \n",
       "⎢                                                                             \n",
       "⎢                                                                             \n",
       "⎢                    0                                         0              \n",
       "⎢                                                                             \n",
       "⎢                                                                             \n",
       "⎣                    0                                         0              \n",
       "\n",
       "                                                                              \n",
       "                           0                                         0        \n",
       "                                                                              \n",
       "⎞                                                                             \n",
       "⎠ - M                      0                                         0        \n",
       "                                                                              \n",
       "           ⎛  2      2⎞         ⎛  2      2⎞                                  \n",
       "       - B⋅⎝kₓ  + k_y ⎠ + C - D⋅⎝kₓ  + k_y ⎠ + M              A⋅(-kₓ + ⅈ⋅k_y) \n",
       "                                                                              \n",
       "                                                    ⎛  2      2⎞         ⎛  2 \n",
       "                    A⋅(-kₓ - ⅈ⋅k_y)               B⋅⎝kₓ  + k_y ⎠ + C - D⋅⎝kₓ  \n",
       "\n",
       "           ⎤\n",
       "           ⎥\n",
       "           ⎥\n",
       "           ⎥\n",
       "           ⎥\n",
       "           ⎥\n",
       "           ⎥\n",
       "           ⎥\n",
       "           ⎥\n",
       "     2⎞    ⎥\n",
       "+ k_y ⎠ - M⎦"
      ]
     },
     "execution_count": 5,
     "metadata": {},
     "output_type": "execute_result"
    }
   ],
   "source": [
    "k = sympy.sqrt(kx**2+ky**2)\n",
    "hamiltonian = (+ C * kr(s0, s0) + M * kr(s0, sz) - D * k**2 * kr(s0, s0) \n",
    "               - B * k**2 * kr(s0, sz) + A * (kx * kr(sz, sx) - ky * kr(s0, sy)))\n",
    "\n",
    "hamiltonian"
   ]
  },
  {
   "cell_type": "code",
   "execution_count": 11,
   "metadata": {
    "collapsed": false
   },
   "outputs": [],
   "source": [
    "symbolic = magic(hamiltonian, verbose=False, symbolic_output=True)"
   ]
  },
  {
   "cell_type": "code",
   "execution_count": 13,
   "metadata": {
    "collapsed": false
   },
   "outputs": [],
   "source": [
    "i, j = 0, 0\n",
    "test = {key: val[i,j] for key, val in symbolic.items()}"
   ]
  },
  {
   "cell_type": "code",
   "execution_count": 14,
   "metadata": {
    "collapsed": false
   },
   "outputs": [
    {
     "data": {
      "text/latex": [
       "$$\\left \\{ \\left ( -1, \\quad 0\\right ) : \\frac{B}{a^{2}} + \\frac{D}{a^{2}}, \\quad \\left ( 0, \\quad -1\\right ) : \\frac{B}{a^{2}} + \\frac{D}{a^{2}}, \\quad \\left ( 0, \\quad 0\\right ) : - \\frac{4 B}{a^{2}} + C - \\frac{4 D}{a^{2}} + M, \\quad \\left ( 0, \\quad 1\\right ) : \\frac{B}{a^{2}} + \\frac{D}{a^{2}}, \\quad \\left ( 1, \\quad 0\\right ) : \\frac{B}{a^{2}} + \\frac{D}{a^{2}}\\right \\}$$"
      ],
      "text/plain": [
       "⎧         B    D            B    D             4⋅B       4⋅D              B   \n",
       "⎪(-1, 0): ── + ──, (0, -1): ── + ──, (0, 0): - ─── + C - ─── + M, (0, 1): ── +\n",
       "⎨          2    2            2    2              2         2               2  \n",
       "⎪         a    a            a    a              a         a               a   \n",
       "⎩                                                                             \n",
       "\n",
       " D           B    D ⎫\n",
       " ──, (1, 0): ── + ──⎪\n",
       "  2           2    2⎬\n",
       " a           a    a ⎪\n",
       "                    ⎭"
      ]
     },
     "execution_count": 14,
     "metadata": {},
     "output_type": "execute_result"
    }
   ],
   "source": [
    "test"
   ]
  },
  {
   "cell_type": "code",
   "execution_count": null,
   "metadata": {
    "collapsed": true
   },
   "outputs": [],
   "source": []
  }
 ],
 "metadata": {
  "kernelspec": {
   "display_name": "Python 3",
   "language": "python",
   "name": "python3"
  },
  "language_info": {
   "codemirror_mode": {
    "name": "ipython",
    "version": 3
   },
   "file_extension": ".py",
   "mimetype": "text/x-python",
   "name": "python",
   "nbconvert_exporter": "python",
   "pygments_lexer": "ipython3",
   "version": "3.4.3"
  }
 },
 "nbformat": 4,
 "nbformat_minor": 0
}
