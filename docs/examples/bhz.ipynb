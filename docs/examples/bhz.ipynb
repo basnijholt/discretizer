{
 "cells": [
  {
   "cell_type": "code",
   "execution_count": 18,
   "metadata": {
    "collapsed": false
   },
   "outputs": [],
   "source": [
    "import os\n",
    "import sys\n",
    "\n",
    "cwd = os.getcwd().split('/')\n",
    "sys.path.append(os.path.join('/', *cwd[:cwd.index('discretizer')+1]))"
   ]
  },
  {
   "cell_type": "code",
   "execution_count": 24,
   "metadata": {
    "collapsed": true
   },
   "outputs": [],
   "source": [
    "from sympy.interactive import printing\n",
    "printing.init_printing(use_latex='mathjax')"
   ]
  },
  {
   "cell_type": "code",
   "execution_count": 25,
   "metadata": {
    "collapsed": true
   },
   "outputs": [],
   "source": [
    "from discretizer import momentum_operators\n",
    "from discretizer import magic\n",
    "\n",
    "import sympy\n",
    "import sympy.physics\n",
    "from sympy.physics.quantum import TensorProduct as kron"
   ]
  },
  {
   "cell_type": "code",
   "execution_count": 42,
   "metadata": {
    "collapsed": false
   },
   "outputs": [],
   "source": [
    "kx, ky, kz = momentum_operators\n",
    "A, B, D, M, C = sympy.symbols('A B D M C', real=True)\n",
    "\n",
    "sigma_0 = sympy.eye(2)\n",
    "sigma_x = sympy.physics.matrices.msigma(1)\n",
    "sigma_y = sympy.physics.matrices.msigma(2)\n",
    "sigma_z = sympy.physics.matrices.msigma(3)"
   ]
  },
  {
   "cell_type": "code",
   "execution_count": 59,
   "metadata": {
    "collapsed": false
   },
   "outputs": [],
   "source": [
    "Ek = lambda kx, ky: C - D * (kx**2 + ky**2)\n",
    "Mk = lambda kx, ky: M - B * (kx**2 + ky**2)\n",
    "\n",
    "dak = lambda kx, ky: A * kx * sigma_x - A * ky * sigma_y + Mk(kx, ky) * sigma_z\n",
    "h_k = lambda kx, ky: Ek(kx, ky) * sigma_0 + dak(kx, ky)\n",
    "\n",
    "hamiltonian = sympy.BlockMatrix([[h_k(kx, ky), 0],[0, h_k(-kx, -ky).conjugate()]])"
   ]
  },
  {
   "cell_type": "code",
   "execution_count": null,
   "metadata": {
    "collapsed": true
   },
   "outputs": [],
   "source": []
  },
  {
   "cell_type": "code",
   "execution_count": 61,
   "metadata": {
    "collapsed": true
   },
   "outputs": [],
   "source": [
    "from sympy.physics.quantum import TensorProduct as kr\n",
    "s0 = sympy.eye(2)\n",
    "sx = sympy.physics.matrices.msigma(1)\n",
    "sy = sympy.physics.matrices.msigma(2)\n",
    "sz = sympy.physics.matrices.msigma(3)"
   ]
  },
  {
   "cell_type": "code",
   "execution_count": 67,
   "metadata": {
    "collapsed": true
   },
   "outputs": [],
   "source": [
    "k = sympy.sqrt(kx**2+ky**2)\n",
    "\n",
    "h = (+ C * kr(s0, s0) + M * kr(s0, sz) - D * k**2 * kr(s0, s0) \n",
    "     - B * k**2 * kr(s0, sz) + A * (kx * kr(sz, sx) - ky * kr(s0, sy)))\n",
    "h = sympy.simplify(h)\n",
    "h"
   ]
  },
  {
   "cell_type": "code",
   "execution_count": 68,
   "metadata": {
    "collapsed": false
   },
   "outputs": [
    {
     "data": {
      "text/latex": [
       "$$\\left[\\begin{matrix}- B \\left(k_{x}^{2} + k_{y}^{2}\\right) + C - D \\left(k_{x}^{2} + k_{y}^{2}\\right) + M & A \\left(k_{x} + i k_{y}\\right) & 0 & 0\\\\A \\left(k_{x} - i k_{y}\\right) & B \\left(k_{x}^{2} + k_{y}^{2}\\right) + C - D \\left(k_{x}^{2} + k_{y}^{2}\\right) - M & 0 & 0\\\\0 & 0 & - B \\left(k_{x}^{2} + k_{y}^{2}\\right) + C - D \\left(k_{x}^{2} + k_{y}^{2}\\right) + M & A \\left(- k_{x} + i k_{y}\\right)\\\\0 & 0 & - A \\left(k_{x} + i k_{y}\\right) & B \\left(k_{x}^{2} + k_{y}^{2}\\right) + C - D \\left(k_{x}^{2} + k_{y}^{2}\\right) - M\\end{matrix}\\right]$$"
      ],
      "text/plain": [
       "⎡    ⎛  2      2⎞         ⎛  2      2⎞                                        \n",
       "⎢- B⋅⎝kₓ  + k_y ⎠ + C - D⋅⎝kₓ  + k_y ⎠ + M              A⋅(kₓ + ⅈ⋅k_y)        \n",
       "⎢                                                                             \n",
       "⎢                                             ⎛  2      2⎞         ⎛  2      2\n",
       "⎢             A⋅(kₓ - ⅈ⋅k_y)                B⋅⎝kₓ  + k_y ⎠ + C - D⋅⎝kₓ  + k_y \n",
       "⎢                                                                             \n",
       "⎢                                                                             \n",
       "⎢                    0                                         0              \n",
       "⎢                                                                             \n",
       "⎢                                                                             \n",
       "⎣                    0                                         0              \n",
       "\n",
       "                                                                              \n",
       "                           0                                         0        \n",
       "                                                                              \n",
       "⎞                                                                             \n",
       "⎠ - M                      0                                         0        \n",
       "                                                                              \n",
       "           ⎛  2      2⎞         ⎛  2      2⎞                                  \n",
       "       - B⋅⎝kₓ  + k_y ⎠ + C - D⋅⎝kₓ  + k_y ⎠ + M              A⋅(-kₓ + ⅈ⋅k_y) \n",
       "                                                                              \n",
       "                                                    ⎛  2      2⎞         ⎛  2 \n",
       "                    -A⋅(kₓ + ⅈ⋅k_y)               B⋅⎝kₓ  + k_y ⎠ + C - D⋅⎝kₓ  \n",
       "\n",
       "           ⎤\n",
       "           ⎥\n",
       "           ⎥\n",
       "           ⎥\n",
       "           ⎥\n",
       "           ⎥\n",
       "           ⎥\n",
       "           ⎥\n",
       "           ⎥\n",
       "     2⎞    ⎥\n",
       "+ k_y ⎠ - M⎦"
      ]
     },
     "execution_count": 68,
     "metadata": {},
     "output_type": "execute_result"
    }
   ],
   "source": []
  },
  {
   "cell_type": "code",
   "execution_count": 71,
   "metadata": {
    "collapsed": false
   },
   "outputs": [
    {
     "data": {
      "text/latex": [
       "$$\\left[\\begin{matrix}C + M - k_{x}^{2} \\left(B + D\\right) - k_{y}^{2} \\left(B + D\\right) & A \\left(k_{x} + i k_{y}\\right) & 0 & 0\\\\A \\left(k_{x} - i k_{y}\\right) & C - M + k_{x}^{2} \\left(B - D\\right) + k_{y}^{2} \\left(B - D\\right) & 0 & 0\\\\0 & 0 & C + M - k_{x}^{2} \\left(B + D\\right) - k_{y}^{2} \\left(B + D\\right) & A \\left(- k_{x} + i k_{y}\\right)\\\\0 & 0 & - A \\left(k_{x} + i k_{y}\\right) & C - M + k_{x}^{2} \\left(B - D\\right) + k_{y}^{2} \\left(B - D\\right)\\end{matrix}\\right]$$"
      ],
      "text/plain": [
       "⎡          2              2                                                   \n",
       "⎢C + M - kₓ ⋅(B + D) - k_y ⋅(B + D)            A⋅(kₓ + ⅈ⋅k_y)                 \n",
       "⎢                                                                             \n",
       "⎢                                              2              2               \n",
       "⎢          A⋅(kₓ - ⅈ⋅k_y)            C - M + kₓ ⋅(B - D) + k_y ⋅(B - D)       \n",
       "⎢                                                                             \n",
       "⎢                                                                             \n",
       "⎢                0                                   0                   C + M\n",
       "⎢                                                                             \n",
       "⎢                                                                             \n",
       "⎣                0                                   0                        \n",
       "\n",
       "                                                                 ⎤\n",
       "           0                                   0                 ⎥\n",
       "                                                                 ⎥\n",
       "                                                                 ⎥\n",
       "           0                                   0                 ⎥\n",
       "                                                                 ⎥\n",
       "     2              2                                            ⎥\n",
       " - kₓ ⋅(B + D) - k_y ⋅(B + D)           A⋅(-kₓ + ⅈ⋅k_y)          ⎥\n",
       "                                                                 ⎥\n",
       "                                         2              2        ⎥\n",
       "    -A⋅(kₓ + ⅈ⋅k_y)            C - M + kₓ ⋅(B - D) + k_y ⋅(B - D)⎦"
      ]
     },
     "execution_count": 71,
     "metadata": {},
     "output_type": "execute_result"
    }
   ],
   "source": [
    "hamiltonian = \"Matrix([[C + M + k_x**2*(-B - D) + k_y**2*(-B - D), A*k_x + I*A*k_y, 0, 0], [A*k_x - I*A*k_y, C - M + k_x**2*(B - D) + k_y**2*(B - D), 0, 0], [0, 0, C + M + k_x**2*(-B - D) + k_y**2*(-B - D), -A*k_x + I*A*k_y], [0, 0, -A*k_x - I*A*k_y, C - M + k_x**2*(B - D) + k_y**2*(B - D)]])\"\n",
    "ns = {s: sympy.Symbol(s) for s in ['A', 'C', 'B', 'M', 'D', 'k_x', 'k_y']}\n",
    "hamiltonian = sympy.sympify(hamiltonian, locals=ns)\n",
    "hamiltonian = sympy.simplify(hamiltonian)\n",
    "hamiltonian"
   ]
  },
  {
   "cell_type": "code",
   "execution_count": null,
   "metadata": {
    "collapsed": true
   },
   "outputs": [],
   "source": []
  },
  {
   "cell_type": "code",
   "execution_count": null,
   "metadata": {
    "collapsed": true
   },
   "outputs": [],
   "source": []
  }
 ],
 "metadata": {
  "kernelspec": {
   "display_name": "Python 3",
   "language": "python",
   "name": "python3"
  },
  "language_info": {
   "codemirror_mode": {
    "name": "ipython",
    "version": 3
   },
   "file_extension": ".py",
   "mimetype": "text/x-python",
   "name": "python",
   "nbconvert_exporter": "python",
   "pygments_lexer": "ipython3",
   "version": "3.4.3"
  }
 },
 "nbformat": 4,
 "nbformat_minor": 0
}
