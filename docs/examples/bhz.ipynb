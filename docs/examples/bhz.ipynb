{
 "cells": [
  {
   "cell_type": "code",
   "execution_count": 1,
   "metadata": {
    "collapsed": false
   },
   "outputs": [],
   "source": [
    "import os\n",
    "import sys\n",
    "\n",
    "cwd = os.getcwd().split('/')\n",
    "sys.path.append(os.path.join('/', *cwd[:cwd.index('discretizer')+1]))"
   ]
  },
  {
   "cell_type": "code",
   "execution_count": 2,
   "metadata": {
    "collapsed": true
   },
   "outputs": [],
   "source": [
    "from discretizer import momentum_operators\n",
    "from discretizer.algorithms import magic\n",
    "\n",
    "import sympy\n",
    "import sympy.physics\n",
    "from sympy.physics.quantum import TensorProduct as kr"
   ]
  },
  {
   "cell_type": "code",
   "execution_count": 3,
   "metadata": {
    "collapsed": true
   },
   "outputs": [],
   "source": [
    "sympy.init_printing(use_latex='mathjax')"
   ]
  },
  {
   "cell_type": "code",
   "execution_count": 4,
   "metadata": {
    "collapsed": false
   },
   "outputs": [],
   "source": [
    "s0 = sympy.eye(2)\n",
    "sx = sympy.physics.matrices.msigma(1)\n",
    "sy = sympy.physics.matrices.msigma(2)\n",
    "sz = sympy.physics.matrices.msigma(3)\n",
    "\n",
    "kx, ky, kz = momentum_operators\n",
    "A, B, D, M, C = sympy.symbols('A B D M C', real=True)\n"
   ]
  },
  {
   "cell_type": "code",
   "execution_count": 5,
   "metadata": {
    "collapsed": false
   },
   "outputs": [
    {
     "data": {
      "text/latex": [
       "$$\\left[\\begin{matrix}- B \\left(k_{x}^{2} + k_{y}^{2}\\right) + C - D \\left(k_{x}^{2} + k_{y}^{2}\\right) + M & A \\left(k_{x} + i k_{y}\\right) & 0 & 0\\\\A \\left(k_{x} - i k_{y}\\right) & B \\left(k_{x}^{2} + k_{y}^{2}\\right) + C - D \\left(k_{x}^{2} + k_{y}^{2}\\right) - M & 0 & 0\\\\0 & 0 & - B \\left(k_{x}^{2} + k_{y}^{2}\\right) + C - D \\left(k_{x}^{2} + k_{y}^{2}\\right) + M & A \\left(- k_{x} + i k_{y}\\right)\\\\0 & 0 & A \\left(- k_{x} - i k_{y}\\right) & B \\left(k_{x}^{2} + k_{y}^{2}\\right) + C - D \\left(k_{x}^{2} + k_{y}^{2}\\right) - M\\end{matrix}\\right]$$"
      ],
      "text/plain": [
       "⎡    ⎛  2      2⎞         ⎛  2      2⎞                                        \n",
       "⎢- B⋅⎝kₓ  + k_y ⎠ + C - D⋅⎝kₓ  + k_y ⎠ + M              A⋅(kₓ + ⅈ⋅k_y)        \n",
       "⎢                                                                             \n",
       "⎢                                             ⎛  2      2⎞         ⎛  2      2\n",
       "⎢             A⋅(kₓ - ⅈ⋅k_y)                B⋅⎝kₓ  + k_y ⎠ + C - D⋅⎝kₓ  + k_y \n",
       "⎢                                                                             \n",
       "⎢                                                                             \n",
       "⎢                    0                                         0              \n",
       "⎢                                                                             \n",
       "⎢                                                                             \n",
       "⎣                    0                                         0              \n",
       "\n",
       "                                                                              \n",
       "                           0                                         0        \n",
       "                                                                              \n",
       "⎞                                                                             \n",
       "⎠ - M                      0                                         0        \n",
       "                                                                              \n",
       "           ⎛  2      2⎞         ⎛  2      2⎞                                  \n",
       "       - B⋅⎝kₓ  + k_y ⎠ + C - D⋅⎝kₓ  + k_y ⎠ + M              A⋅(-kₓ + ⅈ⋅k_y) \n",
       "                                                                              \n",
       "                                                    ⎛  2      2⎞         ⎛  2 \n",
       "                    A⋅(-kₓ - ⅈ⋅k_y)               B⋅⎝kₓ  + k_y ⎠ + C - D⋅⎝kₓ  \n",
       "\n",
       "           ⎤\n",
       "           ⎥\n",
       "           ⎥\n",
       "           ⎥\n",
       "           ⎥\n",
       "           ⎥\n",
       "           ⎥\n",
       "           ⎥\n",
       "           ⎥\n",
       "     2⎞    ⎥\n",
       "+ k_y ⎠ - M⎦"
      ]
     },
     "execution_count": 5,
     "metadata": {},
     "output_type": "execute_result"
    }
   ],
   "source": [
    "k = sympy.sqrt(kx**2+ky**2)\n",
    "hamiltonian = (+ C * kr(s0, s0) + M * kr(s0, sz) - D * k**2 * kr(s0, s0) \n",
    "               - B * k**2 * kr(s0, sz) + A * (kx * kr(sz, sx) - ky * kr(s0, sy)))\n",
    "\n",
    "hamiltonian"
   ]
  },
  {
   "cell_type": "code",
   "execution_count": 6,
   "metadata": {
    "collapsed": false
   },
   "outputs": [],
   "source": [
    "symbolic = magic(hamiltonian, verbose=False, symbolic_output=True)"
   ]
  },
  {
   "cell_type": "code",
   "execution_count": 7,
   "metadata": {
    "collapsed": false
   },
   "outputs": [
    {
     "data": {
      "text/latex": [
       "$$\\left \\{ \\left ( -1, \\quad 0\\right ) : \\left[\\begin{matrix}\\frac{B}{a^{2}} + \\frac{D}{a^{2}} & \\frac{i A}{2 a} & 0 & 0\\\\\\frac{i A}{2 a} & - \\frac{B}{a^{2}} + \\frac{D}{a^{2}} & 0 & 0\\\\0 & 0 & \\frac{B}{a^{2}} + \\frac{D}{a^{2}} & - \\frac{i A}{2 a}\\\\0 & 0 & - \\frac{i A}{2 a} & - \\frac{B}{a^{2}} + \\frac{D}{a^{2}}\\end{matrix}\\right], \\quad \\left ( 0, \\quad -1\\right ) : \\left[\\begin{matrix}\\frac{B}{a^{2}} + \\frac{D}{a^{2}} & - \\frac{A}{2 a} & 0 & 0\\\\\\frac{A}{2 a} & - \\frac{B}{a^{2}} + \\frac{D}{a^{2}} & 0 & 0\\\\0 & 0 & \\frac{B}{a^{2}} + \\frac{D}{a^{2}} & - \\frac{A}{2 a}\\\\0 & 0 & \\frac{A}{2 a} & - \\frac{B}{a^{2}} + \\frac{D}{a^{2}}\\end{matrix}\\right], \\quad \\left ( 0, \\quad 0\\right ) : \\left[\\begin{matrix}- \\frac{4 B}{a^{2}} + C - \\frac{4 D}{a^{2}} + M & 0 & 0 & 0\\\\0 & \\frac{4 B}{a^{2}} + C - \\frac{4 D}{a^{2}} - M & 0 & 0\\\\0 & 0 & - \\frac{4 B}{a^{2}} + C - \\frac{4 D}{a^{2}} + M & 0\\\\0 & 0 & 0 & \\frac{4 B}{a^{2}} + C - \\frac{4 D}{a^{2}} - M\\end{matrix}\\right], \\quad \\left ( 0, \\quad 1\\right ) : \\left[\\begin{matrix}\\frac{B}{a^{2}} + \\frac{D}{a^{2}} & \\frac{A}{2 a} & 0 & 0\\\\- \\frac{A}{2 a} & - \\frac{B}{a^{2}} + \\frac{D}{a^{2}} & 0 & 0\\\\0 & 0 & \\frac{B}{a^{2}} + \\frac{D}{a^{2}} & \\frac{A}{2 a}\\\\0 & 0 & - \\frac{A}{2 a} & - \\frac{B}{a^{2}} + \\frac{D}{a^{2}}\\end{matrix}\\right], \\quad \\left ( 1, \\quad 0\\right ) : \\left[\\begin{matrix}\\frac{B}{a^{2}} + \\frac{D}{a^{2}} & - \\frac{i A}{2 a} & 0 & 0\\\\- \\frac{i A}{2 a} & - \\frac{B}{a^{2}} + \\frac{D}{a^{2}} & 0 & 0\\\\0 & 0 & \\frac{B}{a^{2}} + \\frac{D}{a^{2}} & \\frac{i A}{2 a}\\\\0 & 0 & \\frac{i A}{2 a} & - \\frac{B}{a^{2}} + \\frac{D}{a^{2}}\\end{matrix}\\right]\\right \\}$$"
      ],
      "text/plain": [
       "defaultdict(<function discretizer.algorithms.discretize.<locals>.<lambda>>,\n",
       "            ⎧         ⎡B    D      ⅈ⋅A                       ⎤           ⎡B    D      -A  \n",
       "⎪(-1, 0): ⎢── + ──     ───        0         0    ⎥, (0, -1): ⎢── + ──     ─── \n",
       "⎪         ⎢ 2    2     2⋅a                       ⎥           ⎢ 2    2     2⋅a \n",
       "⎪         ⎢a    a                                ⎥           ⎢a    a          \n",
       "⎪         ⎢                                      ⎥           ⎢                \n",
       "⎪         ⎢  ⅈ⋅A      B    D                     ⎥           ⎢   A       B    \n",
       "⎪         ⎢  ───    - ── + ──     0         0    ⎥           ⎢  ───    - ── + \n",
       "⎪         ⎢  2⋅a       2    2                    ⎥           ⎢  2⋅a       2   \n",
       "⎪         ⎢           a    a                     ⎥           ⎢           a    \n",
       "⎨         ⎢                                      ⎥           ⎢                \n",
       "⎪         ⎢                    B    D     -ⅈ⋅A   ⎥           ⎢                \n",
       "⎪         ⎢   0         0      ── + ──    ─────  ⎥           ⎢   0         0  \n",
       "⎪         ⎢                     2    2     2⋅a   ⎥           ⎢                \n",
       "⎪         ⎢                    a    a            ⎥           ⎢                \n",
       "⎪         ⎢                                      ⎥           ⎢                \n",
       "⎪         ⎢                     -ⅈ⋅A      B    D ⎥           ⎢                \n",
       "⎪         ⎢   0         0       ─────   - ── + ──⎥           ⎢   0         0  \n",
       "⎪         ⎢                      2⋅a       2    2⎥           ⎢                \n",
       "⎩         ⎣                               a    a ⎦           ⎣                \n",
       "\n",
       "                      ⎤          ⎡  4⋅B       4⋅D                             \n",
       "       0         0    ⎥, (0, 0): ⎢- ─── + C - ─── + M          0              \n",
       "                      ⎥          ⎢    2         2                             \n",
       "                      ⎥          ⎢   a         a                              \n",
       "                      ⎥          ⎢                                            \n",
       "D                     ⎥          ⎢                     4⋅B       4⋅D          \n",
       "──     0         0    ⎥          ⎢         0           ─── + C - ─── - M      \n",
       " 2                    ⎥          ⎢                       2         2          \n",
       "a                     ⎥          ⎢                      a         a           \n",
       "                      ⎥          ⎢                                            \n",
       "    B    D      -A    ⎥          ⎢                                          4⋅\n",
       "    ── + ──     ───   ⎥          ⎢         0                   0          - ──\n",
       "     2    2     2⋅a   ⎥          ⎢                                            \n",
       "    a    a            ⎥          ⎢                                           a\n",
       "                      ⎥          ⎢                                            \n",
       "       A       B    D ⎥          ⎢                                            \n",
       "      ───    - ── + ──⎥          ⎢         0                   0              \n",
       "      2⋅a       2    2⎥          ⎢                                            \n",
       "               a    a ⎦          ⎣                                            \n",
       "\n",
       "                                  ⎤          ⎡B    D       A                  \n",
       "     0                   0        ⎥, (0, 1): ⎢── + ──     ───        0        \n",
       "                                  ⎥          ⎢ 2    2     2⋅a                 \n",
       "                                  ⎥          ⎢a    a                          \n",
       "                                  ⎥          ⎢                                \n",
       "                                  ⎥          ⎢  -A       B    D               \n",
       "     0                   0        ⎥          ⎢  ───    - ── + ──     0        \n",
       "                                  ⎥          ⎢  2⋅a       2    2              \n",
       "                                  ⎥          ⎢           a    a               \n",
       "                                  ⎥          ⎢                                \n",
       "B       4⋅D                       ⎥          ⎢                    B    D      \n",
       "─ + C - ─── + M          0        ⎥          ⎢   0         0      ── + ──     \n",
       "2         2                       ⎥          ⎢                     2    2     \n",
       "         a                        ⎥          ⎢                    a    a      \n",
       "                                  ⎥          ⎢                                \n",
       "                 4⋅B       4⋅D    ⎥          ⎢                      -A       B\n",
       "     0           ─── + C - ─── - M⎥          ⎢   0         0        ───    - ─\n",
       "                   2         2    ⎥          ⎢                      2⋅a       \n",
       "                  a         a     ⎦          ⎣                               a\n",
       "\n",
       "      ⎤          ⎡B    D     -ⅈ⋅A                       ⎤⎫\n",
       " 0    ⎥, (1, 0): ⎢── + ──    ─────       0         0    ⎥⎪\n",
       "      ⎥          ⎢ 2    2     2⋅a                       ⎥⎪\n",
       "      ⎥          ⎢a    a                                ⎥⎪\n",
       "      ⎥          ⎢                                      ⎥⎪\n",
       "      ⎥          ⎢ -ⅈ⋅A      B    D                     ⎥⎪\n",
       " 0    ⎥          ⎢ ─────   - ── + ──     0         0    ⎥⎪\n",
       "      ⎥          ⎢  2⋅a       2    2                    ⎥⎪\n",
       "      ⎥          ⎢           a    a                     ⎥⎪\n",
       "      ⎥          ⎢                                      ⎥⎬\n",
       " A    ⎥          ⎢                    B    D      ⅈ⋅A   ⎥⎪\n",
       "───   ⎥          ⎢   0         0      ── + ──     ───   ⎥⎪\n",
       "2⋅a   ⎥          ⎢                     2    2     2⋅a   ⎥⎪\n",
       "      ⎥          ⎢                    a    a            ⎥⎪\n",
       "      ⎥          ⎢                                      ⎥⎪\n",
       "    D ⎥          ⎢                      ⅈ⋅A      B    D ⎥⎪\n",
       "─ + ──⎥          ⎢   0         0        ───    - ── + ──⎥⎪\n",
       "2    2⎥          ⎢                      2⋅a       2    2⎥⎪\n",
       "    a ⎦          ⎣                               a    a ⎦⎭)"
      ]
     },
     "execution_count": 7,
     "metadata": {},
     "output_type": "execute_result"
    }
   ],
   "source": [
    "symbolic"
   ]
  },
  {
   "cell_type": "code",
   "execution_count": 8,
   "metadata": {
    "collapsed": false
   },
   "outputs": [
    {
     "name": "stdout",
     "output_type": "stream",
     "text": [
      "Discrete coordinates set to:  ['x', 'y']\n",
      "\n",
      "Function generated for (0, 1):\n",
      "def _anonymous_func(site1, site2, p):\n",
      "    y, x = site2.pos\n",
      "    A, a, B, D = p.A, p.a, p.B, p.D\n",
      "    return (np.array([[B/a**2 + D/a**2, A/(2*a), 0, 0], [-A/(2*a), -B/a**2 + D/a**2, 0, 0], [0, 0, B/a**2 + D/a**2, A/(2*a)], [0, 0, -A/(2*a), -B/a**2 + D/a**2]]))\n",
      "\n",
      "Function generated for (0, -1):\n",
      "def _anonymous_func(site1, site2, p):\n",
      "    y, x = site2.pos\n",
      "    A, a, B, D = p.A, p.a, p.B, p.D\n",
      "    return (np.array([[B/a**2 + D/a**2, -A/(2*a), 0, 0], [A/(2*a), -B/a**2 + D/a**2, 0, 0], [0, 0, B/a**2 + D/a**2, -A/(2*a)], [0, 0, A/(2*a), -B/a**2 + D/a**2]]))\n",
      "\n",
      "Function generated for (1, 0):\n",
      "def _anonymous_func(site1, site2, p):\n",
      "    y, x = site2.pos\n",
      "    A, a, B, D = p.A, p.a, p.B, p.D\n",
      "    return (np.array([[B/a**2 + D/a**2, -1.j*A/(2*a), 0, 0], [-1.j*A/(2*a), -B/a**2 + D/a**2, 0, 0], [0, 0, B/a**2 + D/a**2, 1.j*A/(2*a)], [0, 0, 1.j*A/(2*a), -B/a**2 + D/a**2]]))\n",
      "\n",
      "Function generated for (0, 0):\n",
      "def _anonymous_func(site, p):\n",
      "    y, x = site.pos\n",
      "    C, a, M, B, D = p.C, p.a, p.M, p.B, p.D\n",
      "    return (np.array([[-4*B/a**2 + C - 4*D/a**2 + M, 0, 0, 0], [0, 4*B/a**2 + C - 4*D/a**2 - M, 0, 0], [0, 0, -4*B/a**2 + C - 4*D/a**2 + M, 0], [0, 0, 0, 4*B/a**2 + C - 4*D/a**2 - M]]))\n",
      "\n",
      "Function generated for (-1, 0):\n",
      "def _anonymous_func(site1, site2, p):\n",
      "    y, x = site2.pos\n",
      "    A, a, B, D = p.A, p.a, p.B, p.D\n",
      "    return (np.array([[B/a**2 + D/a**2, 1.j*A/(2*a), 0, 0], [1.j*A/(2*a), -B/a**2 + D/a**2, 0, 0], [0, 0, B/a**2 + D/a**2, -1.j*A/(2*a)], [0, 0, -1.j*A/(2*a), -B/a**2 + D/a**2]]))\n",
      "\n"
     ]
    }
   ],
   "source": [
    "discrete = magic(hamiltonian, verbose=True)"
   ]
  },
  {
   "cell_type": "code",
   "execution_count": 9,
   "metadata": {
    "collapsed": false
   },
   "outputs": [
    {
     "data": {
      "text/latex": [
       "$$\\left[\\begin{matrix}- \\frac{4 B}{a^{2}} + C - \\frac{4 D}{a^{2}} + M & 0 & 0 & 0\\\\0 & \\frac{4 B}{a^{2}} + C - \\frac{4 D}{a^{2}} - M & 0 & 0\\\\0 & 0 & - \\frac{4 B}{a^{2}} + C - \\frac{4 D}{a^{2}} + M & 0\\\\0 & 0 & 0 & \\frac{4 B}{a^{2}} + C - \\frac{4 D}{a^{2}} - M\\end{matrix}\\right]$$"
      ],
      "text/plain": [
       "⎡  4⋅B       4⋅D                                                              \n",
       "⎢- ─── + C - ─── + M          0                   0                   0       \n",
       "⎢    2         2                                                              \n",
       "⎢   a         a                                                               \n",
       "⎢                                                                             \n",
       "⎢                     4⋅B       4⋅D                                           \n",
       "⎢         0           ─── + C - ─── - M           0                   0       \n",
       "⎢                       2         2                                           \n",
       "⎢                      a         a                                            \n",
       "⎢                                                                             \n",
       "⎢                                          4⋅B       4⋅D                      \n",
       "⎢         0                   0          - ─── + C - ─── + M          0       \n",
       "⎢                                            2         2                      \n",
       "⎢                                           a         a                       \n",
       "⎢                                                                             \n",
       "⎢                                                             4⋅B       4⋅D   \n",
       "⎢         0                   0                   0           ─── + C - ─── - \n",
       "⎢                                                               2         2   \n",
       "⎣                                                              a         a    \n",
       "\n",
       " ⎤\n",
       " ⎥\n",
       " ⎥\n",
       " ⎥\n",
       " ⎥\n",
       " ⎥\n",
       " ⎥\n",
       " ⎥\n",
       " ⎥\n",
       " ⎥\n",
       " ⎥\n",
       " ⎥\n",
       " ⎥\n",
       " ⎥\n",
       " ⎥\n",
       " ⎥\n",
       "M⎥\n",
       " ⎥\n",
       " ⎦"
      ]
     },
     "execution_count": 9,
     "metadata": {},
     "output_type": "execute_result"
    }
   ],
   "source": [
    "A, B, D, M, C = sympy.symbols('A B D M C')\n",
    "a = sympy.Symbol('a')\n",
    "A, B, D, M, C = A / 2 / a, B / a**2, D / a**2, M, C\n",
    "C*kr(s0, s0) + (M - 4 * B) * kr(s0, sz) - 4 * D * kr(s0, s0)"
   ]
  },
  {
   "cell_type": "code",
   "execution_count": 10,
   "metadata": {
    "collapsed": true
   },
   "outputs": [],
   "source": [
    "import kwant\n",
    "import matplotlib\n",
    "%matplotlib inline\n",
    "\n",
    "from collections import namedtuple\n",
    "nt_bhz = namedtuple('nt_bhz', 'A B C D M, a')\n",
    "\n",
    "def get_params(a=1, material='HgTe'):\n",
    "    params = {\n",
    "        \"HgTe\" : nt_bhz(A=3.65, B=-68.6, D=-51.1, M=-0.01, a=a, C=0),\n",
    "        \"InAs/GaSb\" : nt_bhz(A=0.37, B=-66.0, D=-5.8, M=-0.0075, a=a, C=0)\n",
    "    }\n",
    "    return params['HgTe']"
   ]
  },
  {
   "cell_type": "code",
   "execution_count": 11,
   "metadata": {
    "collapsed": true
   },
   "outputs": [],
   "source": [
    "def make_system(discrete, W, L): \n",
    "    \n",
    "    def shape(pos):\n",
    "        (x, y) = pos\n",
    "        return (0 <= y < W and 0 <= x < L)\n",
    "    \n",
    "    def lead_shape(pos):\n",
    "        (x, y) = pos\n",
    "        return (0 <= y < W)\n",
    "\n",
    "    lat = kwant.lattice.square()\n",
    "    sys = kwant.Builder()\n",
    "    lead = kwant.Builder(kwant.TranslationalSymmetry((-1, 0)))    \n",
    "\n",
    "    sys[lat.shape(shape, (0, 0))] = discrete[0,0]\n",
    "    sys[kwant.HoppingKind((1, 0), lat)] = discrete[1,0]\n",
    "    sys[kwant.HoppingKind((0, 1), lat)] = discrete[0,1]\n",
    "    \n",
    "    lead[lat.shape(lead_shape, (0,0))] = discrete[0,0]\n",
    "    lead[kwant.HoppingKind((1, 0), lat)] = discrete[1,0]\n",
    "    lead[kwant.HoppingKind((0, 1), lat)] = discrete[0,1]\n",
    "    \n",
    "    sys.attach_lead(lead)\n",
    "    sys.attach_lead(lead.reversed())\n",
    "    \n",
    "    return sys"
   ]
  },
  {
   "cell_type": "code",
   "execution_count": 12,
   "metadata": {
    "collapsed": true
   },
   "outputs": [],
   "source": [
    "import numpy as np"
   ]
  },
  {
   "cell_type": "code",
   "execution_count": 13,
   "metadata": {
    "collapsed": false
   },
   "outputs": [],
   "source": [
    "import matplotlib.pyplot as plt"
   ]
  },
  {
   "cell_type": "code",
   "execution_count": 14,
   "metadata": {
    "collapsed": true
   },
   "outputs": [],
   "source": [
    "def plot_bs(W, material):\n",
    "    print(\"width =\", W, \", material =\", material)\n",
    "    sys = make_system(discrete, L=5, W=W).finalized()\n",
    "    p = get_params(a=10, material=material)\n",
    "    \n",
    "    kwant.plotter.bands(sys.leads[0], args=[p], momenta=np.linspace(-0.3, 0.3, 100, endpoint=False), show=False)\n",
    "    if material == \"HgTe\":\n",
    "        plt.ylim(-0.05, 0.05)\n",
    "    else:\n",
    "        plt.ylim(-0.02, 0.02)"
   ]
  },
  {
   "cell_type": "code",
   "execution_count": 15,
   "metadata": {
    "collapsed": false
   },
   "outputs": [
    {
     "name": "stdout",
     "output_type": "stream",
     "text": [
      "width = 100 , material = HgTe\n",
      "CPU times: user 3.74 s, sys: 112 ms, total: 3.85 s\n",
      "Wall time: 3.85 s\n"
     ]
    },
    {
     "data": {
      "image/png": "[encoded data removed]",
      "text/plain": [
       "<matplotlib.figure.Figure at 0x7f9c21b04908>"
      ]
     },
     "metadata": {},
     "output_type": "display_data"
    }
   ],
   "source": [
    "%%time\n",
    "plot_bs(100, 'HgTe')"
   ]
  },
  {
   "cell_type": "code",
   "execution_count": null,
   "metadata": {
    "collapsed": true
   },
   "outputs": [],
   "source": []
  }
 ],
 "metadata": {
  "kernelspec": {
   "display_name": "Python 3",
   "language": "python",
   "name": "python3"
  },
  "language_info": {
   "codemirror_mode": {
    "name": "ipython",
    "version": 3
   },
   "file_extension": ".py",
   "mimetype": "text/x-python",
   "name": "python",
   "nbconvert_exporter": "python",
   "pygments_lexer": "ipython3",
   "version": "3.4.3"
  }
 },
 "nbformat": 4,
 "nbformat_minor": 0
}
