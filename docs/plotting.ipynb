{
 "cells": [
  {
   "cell_type": "code",
   "execution_count": 10,
   "metadata": {
    "collapsed": true
   },
   "outputs": [],
   "source": [
    "from matplotlib import pyplot\n",
    "import numpy as np\n",
    "%matplotlib inline"
   ]
  },
  {
   "cell_type": "code",
   "execution_count": 11,
   "metadata": {
    "collapsed": true
   },
   "outputs": [],
   "source": [
    "import kwant"
   ]
  },
  {
   "cell_type": "code",
   "execution_count": 34,
   "metadata": {
    "collapsed": true
   },
   "outputs": [],
   "source": [
    "L, W = 5, 3\n",
    "a = 0.5\n",
    "t = 1"
   ]
  },
  {
   "cell_type": "code",
   "execution_count": 40,
   "metadata": {
    "collapsed": false
   },
   "outputs": [],
   "source": [
    "def shape(pos):\n",
    "    (x, y) = pos\n",
    "    return (0 < x < L and 0 < y < W)\n",
    "\n",
    "lat = kwant.lattice.square(a)\n",
    "sys = kwant.Builder()\n",
    "\n",
    "\n",
    "def onsite(site):\n",
    "    x = site.pos[0]\n",
    "    x = np.cos(x)\n",
    "    return x\n",
    "\n",
    "sys[lat.shape(shape, (a, a))] = onsite\n",
    "sys[kwant.HoppingKind((1, 0), lat)] = -t\n",
    "sys[kwant.HoppingKind((0, 1), lat)] = -t"
   ]
  },
  {
   "cell_type": "code",
   "execution_count": 24,
   "metadata": {
    "collapsed": false
   },
   "outputs": [
    {
     "data": {
      "text/plain": [
       "(0, 3)"
      ]
     },
     "execution_count": 24,
     "metadata": {},
     "output_type": "execute_result"
    },
    {
     "data": {
      "image/png": "[encoded data removed]",
      "text/plain": [
       "<matplotlib.figure.Figure at 0x7f5214a9c630>"
      ]
     },
     "metadata": {},
     "output_type": "display_data"
    }
   ],
   "source": [
    "fig = kwant.plot(sys, show=False, fig_size=(10,5))\n",
    "ax = fig.get_axes()[0]\n",
    "ax.set_xlim(0,L)\n",
    "ax.set_ylim(0,W)"
   ]
  },
  {
   "cell_type": "code",
   "execution_count": 6,
   "metadata": {
    "collapsed": false
   },
   "outputs": [],
   "source": [
    "sys = sys.finalized()"
   ]
  },
  {
   "cell_type": "code",
   "execution_count": 7,
   "metadata": {
    "collapsed": false
   },
   "outputs": [
    {
     "data": {
      "text/plain": [
       "array([[-0.21079580+0.j,  0.00000000+0.j,  0.00000000+0.j, ...,\n",
       "         0.00000000+0.j,  0.00000000+0.j,  0.00000000+0.j],\n",
       "       [ 0.00000000+0.j,  0.07073720+0.j,  0.00000000+0.j, ...,\n",
       "         0.00000000+0.j,  0.00000000+0.j,  0.00000000+0.j],\n",
       "       [ 0.00000000+0.j,  0.00000000+0.j,  0.87758256+0.j, ...,\n",
       "         0.00000000+0.j,  0.00000000+0.j,  0.00000000+0.j],\n",
       "       ..., \n",
       "       [ 0.00000000+0.j,  0.00000000+0.j,  0.00000000+0.j, ...,\n",
       "        -0.80114362+0.j,  0.00000000+0.j,  0.00000000+0.j],\n",
       "       [ 0.00000000+0.j,  0.00000000+0.j,  0.00000000+0.j, ...,\n",
       "         0.00000000+0.j, -0.65364362+0.j,  0.00000000+0.j],\n",
       "       [ 0.00000000+0.j,  0.00000000+0.j,  0.00000000+0.j, ...,\n",
       "         0.00000000+0.j,  0.00000000+0.j, -0.98999250+0.j]])"
      ]
     },
     "execution_count": 7,
     "metadata": {},
     "output_type": "execute_result"
    }
   ],
   "source": [
    "sys.hamiltonian_submatrix()"
   ]
  },
  {
   "cell_type": "code",
   "execution_count": 8,
   "metadata": {
    "collapsed": false
   },
   "outputs": [],
   "source": [
    "onsites = sys.hamiltonian_submatrix().diagonal()\n",
    "onsites = np.real(onsites)"
   ]
  },
  {
   "cell_type": "code",
   "execution_count": 9,
   "metadata": {
    "collapsed": false
   },
   "outputs": [
    {
     "data": {
      "image/png": "[encoded data removed]",
      "text/plain": [
       "<matplotlib.figure.Figure at 0x7f521c1a3fd0>"
      ]
     },
     "metadata": {},
     "output_type": "display_data"
    }
   ],
   "source": [
    "kwant.plotter.map(sys, onsites);"
   ]
  },
  {
   "cell_type": "code",
   "execution_count": null,
   "metadata": {
    "collapsed": true
   },
   "outputs": [],
   "source": []
  }
 ],
 "metadata": {
  "kernelspec": {
   "display_name": "Python 3",
   "language": "python",
   "name": "python3"
  },
  "language_info": {
   "codemirror_mode": {
    "name": "ipython",
    "version": 3
   },
   "file_extension": ".py",
   "mimetype": "text/x-python",
   "name": "python",
   "nbconvert_exporter": "python",
   "pygments_lexer": "ipython3",
   "version": "3.4.3"
  }
 },
 "nbformat": 4,
 "nbformat_minor": 0
}
